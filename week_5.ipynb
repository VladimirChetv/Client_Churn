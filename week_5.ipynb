{
 "cells": [
  {
   "cell_type": "markdown",
   "metadata": {},
   "source": [
    "# Peer-graded Assignment: Эксперименты с моделью\n",
    "\n",
    "На прошлой неделе вы поучаствовали в соревновании на kaggle и, наверняка, большинство успешно справилось с прохождением baseline, а значит пора двигаться дальше - заняться оптимизацией модели, провести серию экспериментов и построить сильное финальное решения.\n",
    "\n",
    "В этом задании вам нужно провести ряд эскпериментов, оценить качество полученных в процессе экспериментирования моделей и выбрать лучшее решение. "
   ]
  },
  {
   "cell_type": "markdown",
   "metadata": {},
   "source": [
    "Задание будет оцениваться на основании загруженного jupyther notebook и развернутых ответов на поставленные вопросы."
   ]
  },
  {
   "cell_type": "code",
   "execution_count": 405,
   "metadata": {},
   "outputs": [],
   "source": [
    "import pandas as pd\n",
    "import numpy as np\n",
    "import seaborn as sns\n",
    "from sklearn import preprocessing, model_selection, metrics, ensemble\n",
    "from sklearn.preprocessing import LabelEncoder, StandardScaler, OneHotEncoder\n",
    "from sklearn.utils import shuffle\n",
    "from sklearn.model_selection import learning_curve\n",
    "from xgboost import XGBClassifier\n",
    "from matplotlib import pyplot as plt\n",
    "from sklearn.ensemble import GradientBoostingClassifier\n",
    "import xgboost as xgb"
   ]
  },
  {
   "cell_type": "code",
   "execution_count": 406,
   "metadata": {},
   "outputs": [],
   "source": [
    "train = pd.read_csv('Train.csv')\n",
    "num_columns = train.columns[:190]\n",
    "cat_columns = train.columns[190:230]\n",
    "y = train['label']"
   ]
  },
  {
   "cell_type": "code",
   "execution_count": 18,
   "metadata": {},
   "outputs": [
    {
     "data": {
      "text/plain": [
       "0       -1\n",
       "1       -1\n",
       "2       -1\n",
       "3       -1\n",
       "4        1\n",
       "        ..\n",
       "29995   -1\n",
       "29996   -1\n",
       "29997    1\n",
       "29998   -1\n",
       "29999   -1\n",
       "Name: label, Length: 30000, dtype: int64"
      ]
     },
     "execution_count": 18,
     "metadata": {},
     "output_type": "execute_result"
    }
   ],
   "source": [
    "y"
   ]
  },
  {
   "cell_type": "code",
   "execution_count": 407,
   "metadata": {},
   "outputs": [],
   "source": [
    "def num_features(df):\n",
    "    \n",
    "    for col in num_columns:\n",
    "        if col in df.columns:\n",
    "            #df = df.fillna(0)\n",
    "            mean = df[col].dropna().mean()\n",
    "            df[col] = df[col].fillna(mean)\n",
    "            scaler = StandardScaler()\n",
    "            df[col] = scaler.fit_transform(df[col].values.reshape(-1, 1))\n",
    "            \n",
    "    return df"
   ]
  },
  {
   "cell_type": "code",
   "execution_count": 408,
   "metadata": {},
   "outputs": [],
   "source": [
    "def cat_features(df):\n",
    "    for col in cat_columns:\n",
    "        if col in df.columns:\n",
    "        # отбираем только те призники в которых количество различных категорий в (1;7)\n",
    "            if len(np.unique(df[col].astype(str))) > 2 and len(np.unique(df[col].astype(str))) < 7:\n",
    "                df = df.fillna('0')\n",
    "            else:\n",
    "                df = df.drop(col,axis=1)\n",
    "    return df"
   ]
  },
  {
   "cell_type": "code",
   "execution_count": 409,
   "metadata": {},
   "outputs": [],
   "source": [
    "def label_encoder(df):\n",
    "    labelencoder = LabelEncoder()\n",
    "    for i in cat_columns:\n",
    "        if i in df.columns:\n",
    "            df[i] = labelencoder.fit_transform(df[i].astype(str))\n",
    "       \n",
    "    return df"
   ]
  },
  {
   "cell_type": "code",
   "execution_count": 320,
   "metadata": {},
   "outputs": [],
   "source": [
    "def one_hot_encoder(df):\n",
    "    encoder = OneHotEncoder()\n",
    "    for i in cat_columns:\n",
    "        if i in df.columns:\n",
    "            var = df[[i]].fillna('na')\n",
    "            \n",
    "            new_var = encoder.fit_transform(var).toarray()\n",
    "            df = pd.concat(\n",
    "                [\n",
    "                    df, \n",
    "                    pd.DataFrame(\n",
    "                        new_var,\n",
    "                        columns = [i+'-'+str(j) for j in range(len(encoder.categories_[0]))]\n",
    "                    )\n",
    "                ], \n",
    "                axis=1,\n",
    "                sort=False,\n",
    "            )\n",
    "            df = df.drop(i, axis=1)\n",
    "    return df"
   ]
  },
  {
   "cell_type": "code",
   "execution_count": 410,
   "metadata": {},
   "outputs": [],
   "source": [
    "estimator= GradientBoostingClassifier()"
   ]
  },
  {
   "cell_type": "code",
   "execution_count": 411,
   "metadata": {},
   "outputs": [],
   "source": [
    "skf = model_selection.StratifiedKFold(n_splits=5, random_state=19,shuffle=True)"
   ]
  },
  {
   "cell_type": "code",
   "execution_count": 323,
   "metadata": {},
   "outputs": [],
   "source": [
    "# рассчет метрик по кросс-валидации\n",
    "def get_model_weight(clf, skf, x, y, weight=None):\n",
    "    roc_auc = []\n",
    "    f1_score = []\n",
    "    precision = []\n",
    "    recall = []\n",
    "    weights = list(map(lambda x: weight[0] if x == -1 else weight[1], y))\n",
    "    weights_class = pd.DataFrame(weights)\n",
    "    for train, test in skf.split(x,y):\n",
    "        clf.fit(x.iloc[train,:], y[train],sample_weight=weights_class.iloc[train,0])\n",
    "        y_pred = clf.predict(x.iloc[test,:])\n",
    "        y_pred_prob = clf.predict_proba(x.iloc[test,:])[:,1]\n",
    "        precision.append(metrics.precision_score(y[test], y_pred))\n",
    "        recall.append(metrics.recall_score(y[test], y_pred))\n",
    "        f1_score.append(metrics.f1_score(y[test], y_pred))\n",
    "        roc_auc.append(metrics.roc_auc_score(y[test], y_pred_prob))\n",
    "        \n",
    "    print('f1_score:', np.mean(f1_score))\n",
    "    print('precision:', np.mean(precision))\n",
    "    print('recall:', np.mean(recall))\n",
    "    print('roc_auc:', np.mean(roc_auc))\n",
    "        \n",
    "    return roc_auc"
   ]
  },
  {
   "cell_type": "markdown",
   "metadata": {},
   "source": [
    "## Инструкции"
   ]
  },
  {
   "cell_type": "markdown",
   "metadata": {},
   "source": [
    "### 1. Как много объектов действительно нужно для построения качественной модели?"
   ]
  },
  {
   "cell_type": "markdown",
   "metadata": {},
   "source": [
    "1\\. Начнем с простого. Давайте оценим как много объектов действительно нужно для построения качественной модели. Для обучения доступна достаточно большая выборка и может так оказаться, что начиная с некоторого момента рост размера обучающей выборки перестает влиять на качество модели. Постройте кривые обучения, обучая модель на выборках разного размера начиная с небольшого количество объектов в обучающей выборке и постепенно наращивая её размер с некоторым шагом. Обратите внимание на `sklearn.model_selection.learning_curve`"
   ]
  },
  {
   "cell_type": "code",
   "execution_count": 62,
   "metadata": {},
   "outputs": [],
   "source": [
    "# подготовка данных\n",
    "x1 = train.copy().drop('label',axis=1)\n",
    "x1 = x1.dropna(axis=1, how='all')\n",
    "x1 = num_features(x1)\n",
    "x1 = cat_features(x1)\n",
    "x1 = label_encoder(x1)"
   ]
  },
  {
   "cell_type": "code",
   "execution_count": 76,
   "metadata": {},
   "outputs": [],
   "source": [
    "train_sizes, train_scores, test_scores = learning_curve(estimator, x1, y, cv=5, \n",
    "                                                        scoring='roc_auc', \n",
    "                                                        train_sizes=np.arange(0.1, 1, 0.1), n_jobs=-1)"
   ]
  },
  {
   "cell_type": "code",
   "execution_count": 77,
   "metadata": {},
   "outputs": [
    {
     "data": {
      "image/png": "[encoded data removed]",
      "text/plain": [
       "<Figure size 864x432 with 1 Axes>"
      ]
     },
     "metadata": {
      "needs_background": "light"
     },
     "output_type": "display_data"
    }
   ],
   "source": [
    "plt.figure(figsize=(12,6))\n",
    "plt.plot(train_sizes, train_scores.mean(axis=1), label=u\"Обучающая выборка\")\n",
    "plt.plot(train_sizes, test_scores.mean(axis=1), label=u\"Тестовая выборка\")\n",
    "plt.legend(loc='best')\n",
    "plt.grid()\n",
    "plt.xlabel(u'Размер выборки')\n",
    "plt.ylabel(u'ROC AUC')\n",
    "plt.show()"
   ]
  },
  {
   "cell_type": "markdown",
   "metadata": {},
   "source": [
    "Как видно из графика, метрика на тестовой выборке продолжает расти с увеличением обучающей выборки,хотя и не значительно. Для дальнейшей работы берем все данные"
   ]
  },
  {
   "cell_type": "markdown",
   "metadata": {},
   "source": [
    "### 2. Балансировка выборки"
   ]
  },
  {
   "cell_type": "markdown",
   "metadata": {},
   "source": [
    "2\\. Часто несбалансированные по классам выборки приводят к различным проблемам при обучении моделей. Давайте попробуем по-разному обработать выборку, поиграть с распределением объектов по классам и сделать выводы о том, как соотношение классов влияет на качество модели."
   ]
  },
  {
   "cell_type": "markdown",
   "metadata": {},
   "source": [
    "2.1\\. Задайте веса объектам так, чтобы соотношение классов с учетом весов объектов изменилось. Попробуйте не менее трёх различных вариантов весов. Меняются ли результаты классификации? Как это сказывается на качестве модели? Какой вариант выглядит наиболее оптимальным с точки зрения качества?"
   ]
  },
  {
   "cell_type": "markdown",
   "metadata": {},
   "source": [
    "В исходной выборке соотношение классов отток(\"1\") и не_отток(\"-1\") составляет примерно 1:12. Воспользуемся параметром class_weight в логистической регрессии и посмотрим на что он влияет:"
   ]
  },
  {
   "cell_type": "code",
   "execution_count": 103,
   "metadata": {},
   "outputs": [],
   "source": [
    "# задаем соотношение весов отток:не_отток\n",
    "weights = [[1, 12],\n",
    "           [1, 5],\n",
    "           [1, 3],\n",
    "           [1, 1],\n",
    "           [3, 1],\n",
    "           [12, 1]]\n",
    "        "
   ]
  },
  {
   "cell_type": "code",
   "execution_count": 110,
   "metadata": {},
   "outputs": [
    {
     "name": "stdout",
     "output_type": "stream",
     "text": [
      "соотношение весов: [1, 12]\n",
      "f1_score: 0.24288645721586608\n",
      "precision: 0.14943667381081496\n",
      "recall: 0.6484952766531713\n",
      "roc_auc: 0.7339751875087852\n",
      "\n",
      "\n",
      "соотношение весов: [1, 5]\n",
      "f1_score: 0.255363942689078\n",
      "precision: 0.25801836187655525\n",
      "recall: 0.2535039521881627\n",
      "roc_auc: 0.7363258899369104\n",
      "\n",
      "\n",
      "соотношение весов: [1, 3]\n",
      "f1_score: 0.15580161380446383\n",
      "precision: 0.33773916346199495\n",
      "recall: 0.10193175245806825\n",
      "roc_auc: 0.7367522174408091\n",
      "\n",
      "\n",
      "соотношение весов: [1, 1]\n",
      "f1_score: 0.032337466529396494\n",
      "precision: 0.5594934640522876\n",
      "recall: 0.016698476961634855\n",
      "roc_auc: 0.735632851465557\n",
      "\n",
      "\n",
      "соотношение весов: [3, 1]\n",
      "f1_score: 0.014373230830977857\n",
      "precision: 0.1954924023345076\n",
      "recall: 0.007469635627530365\n",
      "roc_auc: 0.7341082940580207\n",
      "\n",
      "\n",
      "соотношение весов: [12, 1]\n",
      "f1_score: 0.028665615161532397\n",
      "precision: 0.12183640920483026\n",
      "recall: 0.01625602467707731\n",
      "roc_auc: 0.728915401716049\n",
      "\n",
      "\n"
     ]
    }
   ],
   "source": [
    "for weight in weights:\n",
    "    print ('соотношение весов:', weight)\n",
    "    roc_auc = get_model_weight(estimator, skf, x1, y, weight)\n",
    "    print('\\n')"
   ]
  },
  {
   "cell_type": "markdown",
   "metadata": {},
   "source": [
    "Изменяя веса каждого класса, мы в большей степени влияем на точность и полноту, чем на остальные метрики."
   ]
  },
  {
   "cell_type": "markdown",
   "metadata": {},
   "source": [
    "2.2\\. Примените к выборке технологию undersampling: для этого нужно убрать из обучения некоторое количество объектов большего класса таким образом, чтобы соотношение классов изменилось. Попробуйте не менее трёх различных вариантов undersampling (варианты могут отличаться как по количество отфильтрованных объектов, так и по принципу выборка объектов для отсеивания из выборки). Меняются ли результаты классификации? Как это сказывается на качестве модели? Какой вариант выглядит наиболее оптимальным с точки зрения качества?"
   ]
  },
  {
   "cell_type": "code",
   "execution_count": 412,
   "metadata": {},
   "outputs": [],
   "source": [
    "def undersampling_alpha(df, alpha):\n",
    "    data_churn = df[df['label'] == 1]\n",
    "    data_nochurn = df[df['label'] == -1]\n",
    "    countFirst = int(len(data_churn) * alpha)\n",
    "    data_churn = data_churn.append(data_nochurn.iloc[:countFirst,:])\n",
    "    data_churn = shuffle(data_churn)\n",
    "    return data_churn"
   ]
  },
  {
   "cell_type": "code",
   "execution_count": 413,
   "metadata": {},
   "outputs": [],
   "source": [
    "def get_model(clf, skf, x, y):\n",
    "    roc_auc = []\n",
    "    f1_score = []\n",
    "    precision = []\n",
    "    recall = []\n",
    "    for train, test in skf.split(x,y):\n",
    "        clf.fit(x.iloc[train,:], y[train])\n",
    "        y_pred = clf.predict(x.iloc[test,:])\n",
    "        y_pred_prob = clf.predict_proba(x.iloc[test,:])[:,1]\n",
    "        precision.append(metrics.precision_score(y[test], y_pred))\n",
    "        recall.append(metrics.recall_score(y[test], y_pred))\n",
    "        f1_score.append(metrics.f1_score(y[test], y_pred))\n",
    "        roc_auc.append(metrics.roc_auc_score(y[test], y_pred_prob))\n",
    "        \n",
    "    print('f1_score:', np.mean(f1_score))\n",
    "    print('precision:', np.mean(precision))\n",
    "    print('recall:', np.mean(recall))\n",
    "    print('roc_auc:', np.mean(roc_auc))\n",
    "        \n",
    "    return roc_auc"
   ]
  },
  {
   "cell_type": "code",
   "execution_count": 128,
   "metadata": {},
   "outputs": [
    {
     "name": "stdout",
     "output_type": "stream",
     "text": [
      "alpha: 0.5\n",
      "f1_score: 0.8073168277432744\n",
      "precision: 0.7318090091665831\n",
      "recall: 0.9002708694813958\n",
      "roc_auc: 0.73140615007529\n",
      "\n",
      "\n",
      "alpha: 1\n",
      "f1_score: 0.6811694432013102\n",
      "precision: 0.6681189858110372\n",
      "recall: 0.6964208598419125\n",
      "roc_auc: 0.7332149975530541\n",
      "\n",
      "\n",
      "alpha: 2\n",
      "f1_score: 0.4377576364219994\n",
      "precision: 0.6270572422011023\n",
      "recall: 0.33656352419510316\n",
      "roc_auc: 0.7296378166550388\n",
      "\n",
      "\n",
      "alpha: 5\n",
      "f1_score: 0.1301089334699283\n",
      "precision: 0.5791649407799592\n",
      "recall: 0.07337285521496048\n",
      "roc_auc: 0.7282116795385111\n",
      "\n",
      "\n",
      "alpha: 11\n",
      "f1_score: 0.03960681534257317\n",
      "precision: 0.5208187134502924\n",
      "recall: 0.020649701176016964\n",
      "roc_auc: 0.7343263449638586\n",
      "\n",
      "\n"
     ]
    }
   ],
   "source": [
    "alphas = [0.5, 1, 2, 5, 11]\n",
    "for alpha in alphas:\n",
    "    data_sample = train.copy()\n",
    "    data_sample = data_sample.dropna(axis=1, how='all')\n",
    "    data_sample = num_features(data_sample)\n",
    "    data_sample = cat_features(data_sample)\n",
    "    data_sample = label_encoder(data_sample)\n",
    "    data_sample = undersampling_alpha(data_sample, alpha)\n",
    "    x2 = data_sample.iloc[:,:-1]\n",
    "    y2 = data_sample.iloc[:,-1:]\n",
    "    print ('alpha:', alpha)\n",
    "    roc_auc = get_model(estimator, skf, x2,  y2.label.values)\n",
    "    print('\\n')\n",
    "    "
   ]
  },
  {
   "cell_type": "markdown",
   "metadata": {},
   "source": [
    "Основная метрика (ROC AUC) практически не меняется, если выбрасывать объекты доминирующего класса, зато сильно растут точность и полнота."
   ]
  },
  {
   "cell_type": "markdown",
   "metadata": {},
   "source": [
    "### 3. Обработкa пропущенных значений\n"
   ]
  },
  {
   "cell_type": "markdown",
   "metadata": {},
   "source": [
    "3\\. Теперь перейдем к работе с признаками. Ранее вы реализовали несколько стратегий для обработки пропущенных значений. Сравните эти стратегии между собой с помощью оценки качества моделей кросс-валидации, построенных на датасетах с использованием различных стратегий. Как обработка пропущенных значений сказывается на качестве модели? Какой вариант выглядит наиболее оптимальным с точки зрения качества?\n",
    "\n",
    "Начнем с числовых признаков"
   ]
  },
  {
   "cell_type": "code",
   "execution_count": 11,
   "metadata": {},
   "outputs": [],
   "source": [
    "x3 = train[num_columns].copy()\n",
    "x3 = x3.dropna(axis=1, how='all')"
   ]
  },
  {
   "cell_type": "code",
   "execution_count": 105,
   "metadata": {},
   "outputs": [
    {
     "name": "stdout",
     "output_type": "stream",
     "text": [
      "f1_score: 0.009527735607390482\n",
      "precision: 0.36666666666666664\n",
      "recall: 0.0048332369385000965\n",
      "roc_auc: 0.7188997559469061\n"
     ]
    }
   ],
   "source": [
    "# замена nan на средние значения\n",
    "x3_mean = x3.fillna(x3.mean())\n",
    "x3_mean = pd.DataFrame(StandardScaler().fit_transform(x3_mean))\n",
    "roc_auc = get_model(estimator, skf, x3_mean, y)"
   ]
  },
  {
   "cell_type": "code",
   "execution_count": 106,
   "metadata": {},
   "outputs": [
    {
     "name": "stdout",
     "output_type": "stream",
     "text": [
      "f1_score: 0.005208001053372327\n",
      "precision: 0.22857142857142856\n",
      "recall: 0.0026363986890302676\n",
      "roc_auc: 0.7098278701598252\n"
     ]
    }
   ],
   "source": [
    "# замена nan на медианное значения\n",
    "x3_median = x3.fillna(x3.median())\n",
    "x3_median = pd.DataFrame(StandardScaler().fit_transform(x3_median))\n",
    "roc_auc = get_model(estimator, skf, x3_median, y)"
   ]
  },
  {
   "cell_type": "code",
   "execution_count": 21,
   "metadata": {},
   "outputs": [
    {
     "name": "stdout",
     "output_type": "stream",
     "text": [
      "f1_score: 0.0077942005282960235\n",
      "precision: 0.32857142857142857\n",
      "recall: 0.003952188162714478\n",
      "roc_auc: 0.7161720525586325\n"
     ]
    }
   ],
   "source": [
    "# замена nan на нулевое значения\n",
    "x3_zero = x3.fillna(0)\n",
    "x3_zero = pd.DataFrame(StandardScaler().fit_transform(x3_zero))\n",
    "roc_auc = get_model(estimator, skf, x3_zero, y)"
   ]
  },
  {
   "cell_type": "markdown",
   "metadata": {},
   "source": [
    "Среднее значение показывает лучший результат по основной метрике. Добавим дополнительный признак -- пропущено ли значение в исходной таблице и опять посчитаем метрики:"
   ]
  },
  {
   "cell_type": "code",
   "execution_count": 16,
   "metadata": {},
   "outputs": [],
   "source": [
    "x3_nan = x3.isnull()\n",
    "x3_nan.columns = ['nan_'] + x3_nan.columns"
   ]
  },
  {
   "cell_type": "code",
   "execution_count": 22,
   "metadata": {},
   "outputs": [
    {
     "name": "stdout",
     "output_type": "stream",
     "text": [
      "f1_score: 0.005202423511411133\n",
      "precision: 0.22333333333333333\n",
      "recall: 0.0026354347406978987\n",
      "roc_auc: 0.7181666493263563\n"
     ]
    }
   ],
   "source": [
    "# замена nan на средние значения\n",
    "roc_auc = get_model(estimator, skf, pd.concat([x3_mean, x3_nan], axis=1), y)"
   ]
  },
  {
   "cell_type": "code",
   "execution_count": 23,
   "metadata": {},
   "outputs": [
    {
     "name": "stdout",
     "output_type": "stream",
     "text": [
      "f1_score: 0.00521551326473352\n",
      "precision: 0.25\n",
      "recall: 0.0026354347406978987\n",
      "roc_auc: 0.7191123056439427\n"
     ]
    }
   ],
   "source": [
    "# замена nan на медианное значения\n",
    "roc_auc = get_model(estimator, skf, pd.concat([x3_median, x3_nan], axis=1), y)"
   ]
  },
  {
   "cell_type": "code",
   "execution_count": 24,
   "metadata": {},
   "outputs": [
    {
     "name": "stderr",
     "output_type": "stream",
     "text": [
      "C:\\Users\\chetv\\anaconda3\\lib\\site-packages\\sklearn\\metrics\\_classification.py:1272: UndefinedMetricWarning: Precision is ill-defined and being set to 0.0 due to no predicted samples. Use `zero_division` parameter to control this behavior.\n",
      "  _warn_prf(average, modifier, msg_start, len(result))\n"
     ]
    },
    {
     "name": "stdout",
     "output_type": "stream",
     "text": [
      "f1_score: 0.006049475262368815\n",
      "precision: 0.205\n",
      "recall: 0.00307210333526123\n",
      "roc_auc: 0.7159709878922036\n"
     ]
    }
   ],
   "source": [
    "# замена nan на нулевое значения\n",
    "roc_auc = get_model(estimator, skf, pd.concat([x3_zero, x3_nan], axis=1), y)"
   ]
  },
  {
   "cell_type": "markdown",
   "metadata": {},
   "source": [
    "Существеннной разницы после добавления доп.признака не наблюдается.\n",
    "\n",
    "Вывод: в дальнейшем заменяем пропуски на средние значения"
   ]
  },
  {
   "cell_type": "markdown",
   "metadata": {},
   "source": [
    "### 4. Обработкa категориальный признаков"
   ]
  },
  {
   "cell_type": "markdown",
   "metadata": {},
   "source": [
    "4\\. Также вы уже реализовали несколько стратегий для обработки категориальных признаков. Сравните эти стратегии между собой с помощью оценки качества моделей по кросс-валидации, построенных на датасетах с использованием различных стратегий. Как обработка категориальных признаков сказывается на качестве модели? Какой вариант выглядит наиболее оптимальным с точки зрения качества?"
   ]
  },
  {
   "cell_type": "code",
   "execution_count": 414,
   "metadata": {},
   "outputs": [],
   "source": [
    "data_4 = train.copy()\n",
    "data_4 = data_4.dropna(axis=1, how='all')\n",
    "data_4 = num_features(data_4)\n",
    "data_4 = cat_features(data_4)"
   ]
  },
  {
   "cell_type": "code",
   "execution_count": 97,
   "metadata": {},
   "outputs": [],
   "source": [
    "# one_hot_encoder\n",
    "data_4_one_hot_encoder = one_hot_encoder(data_4)\n",
    "data_4_one_hot_encoder.drop('label', axis=1, inplace=True)\n",
    "data_4_one_hot_encoder['label'] = data_4.label\n",
    "\n",
    "\n",
    "data_4_one_hot_encoder = undersampling_alpha(data_4_one_hot_encoder, 1)\n",
    "\n",
    "x_one_hot_encoder = data_4_one_hot_encoder.iloc[:,:-1]\n",
    "y_one_hot_encoder = data_4_one_hot_encoder.iloc[:,-1:]"
   ]
  },
  {
   "cell_type": "code",
   "execution_count": 101,
   "metadata": {},
   "outputs": [
    {
     "name": "stdout",
     "output_type": "stream",
     "text": [
      "f1_score: 0.679048907939561\n",
      "precision: 0.6672194449204488\n",
      "recall: 0.6915664160401004\n",
      "roc_auc: 0.7301571331117312\n"
     ]
    }
   ],
   "source": [
    "roc_auc = get_model(estimator, skf, x_one_hot_encoder, y_one_hot_encoder.label.values)"
   ]
  },
  {
   "cell_type": "code",
   "execution_count": 415,
   "metadata": {},
   "outputs": [],
   "source": [
    "# label_encoder\n",
    "data_4_label_encoder = label_encoder(data_4)\n",
    "\n",
    "data_4_label_encoder = undersampling_alpha(data_4_label_encoder, 1)\n",
    "\n",
    "x_label_encoder = data_4_label_encoder.iloc[:,:-1]\n",
    "y_label_encoder = data_4_label_encoder.iloc[:,-1:]"
   ]
  },
  {
   "cell_type": "code",
   "execution_count": 102,
   "metadata": {},
   "outputs": [
    {
     "name": "stdout",
     "output_type": "stream",
     "text": [
      "f1_score: 0.6796461004093987\n",
      "precision: 0.6675689743803389\n",
      "recall: 0.6924301137459032\n",
      "roc_auc: 0.7349229561647144\n"
     ]
    }
   ],
   "source": [
    "roc_auc = get_model(estimator, skf, x_label_encoder, y_label_encoder.label.values)"
   ]
  },
  {
   "cell_type": "markdown",
   "metadata": {},
   "source": [
    "Кодирование с помощью label_encoder показала результат по основной метрике несколько выше, чем one_hot_encoder. В дальнейшем используем label_encoder, так как он впридачу менее восприимчим к данным с большим количеством различных категории, в то время как one_hot_encoder сильно бы увеличил размерность dataframe"
   ]
  },
  {
   "cell_type": "markdown",
   "metadata": {},
   "source": [
    "### 5. Отбор признаков"
   ]
  },
  {
   "cell_type": "markdown",
   "metadata": {},
   "source": [
    "5\\. Все ли признаки оказались полезными для построения моделей? Проведите процедуру отбора признаков, попробуйте разные варианты отбора (обратите внимание на модуль `sklearn.feature_selection`). Например, можно выбрасывать случайные признаки или строить отбор на основе l1-регуляризации - отфильтровать из обучения признаки, которые получат нулевой вес при построении регрессии с l1-регуляризацией (`sklearn.linear_model.Lasso`). И всегда можно придумать что-то своё=) Попробуйте как минимум 2 различные стратегии, сравните результаты. Помог ли отбор признаков улучшить качество модели? Поясните свой ответ."
   ]
  },
  {
   "cell_type": "code",
   "execution_count": 326,
   "metadata": {},
   "outputs": [],
   "source": [
    "from sklearn.feature_selection import SelectKBest, SelectFromModel"
   ]
  },
  {
   "cell_type": "code",
   "execution_count": 327,
   "metadata": {},
   "outputs": [],
   "source": [
    "x5 = x_label_encoder.copy()\n",
    "y5 = y_label_encoder.copy()"
   ]
  },
  {
   "cell_type": "code",
   "execution_count": 127,
   "metadata": {},
   "outputs": [
    {
     "data": {
      "text/plain": [
       "(4552, 185)"
      ]
     },
     "execution_count": 127,
     "metadata": {},
     "output_type": "execute_result"
    }
   ],
   "source": [
    "x5.shape"
   ]
  },
  {
   "cell_type": "code",
   "execution_count": 328,
   "metadata": {
    "scrolled": false
   },
   "outputs": [
    {
     "name": "stderr",
     "output_type": "stream",
     "text": [
      "C:\\Users\\chetv\\anaconda3\\lib\\site-packages\\sklearn\\feature_selection\\_univariate_selection.py:114: UserWarning: Features [106] are constant.\n",
      "  UserWarning)\n",
      "C:\\Users\\chetv\\anaconda3\\lib\\site-packages\\sklearn\\feature_selection\\_univariate_selection.py:115: RuntimeWarning: invalid value encountered in true_divide\n",
      "  f = msb / msw\n",
      "C:\\Users\\chetv\\anaconda3\\lib\\site-packages\\sklearn\\feature_selection\\_univariate_selection.py:114: UserWarning: Features [106] are constant.\n",
      "  UserWarning)\n",
      "C:\\Users\\chetv\\anaconda3\\lib\\site-packages\\sklearn\\feature_selection\\_univariate_selection.py:115: RuntimeWarning: invalid value encountered in true_divide\n",
      "  f = msb / msw\n",
      "C:\\Users\\chetv\\anaconda3\\lib\\site-packages\\sklearn\\feature_selection\\_univariate_selection.py:114: UserWarning: Features [106] are constant.\n",
      "  UserWarning)\n",
      "C:\\Users\\chetv\\anaconda3\\lib\\site-packages\\sklearn\\feature_selection\\_univariate_selection.py:115: RuntimeWarning: invalid value encountered in true_divide\n",
      "  f = msb / msw\n"
     ]
    }
   ],
   "source": [
    "kbest50 = SelectKBest(k=50).fit_transform(x5, y5.label.values)\n",
    "kbest100 = SelectKBest(k=100).fit_transform(x5, y5.label.values)\n",
    "kbest150 = SelectKBest(k=150).fit_transform(x5, y5.label.values)"
   ]
  },
  {
   "cell_type": "code",
   "execution_count": 135,
   "metadata": {},
   "outputs": [
    {
     "name": "stdout",
     "output_type": "stream",
     "text": [
      "f1_score: 0.6774577084657615\n",
      "precision: 0.6641216423652557\n",
      "recall: 0.6915509928667822\n",
      "roc_auc: 0.7329516924178578\n"
     ]
    }
   ],
   "source": [
    "roc_auc = get_model(estimator, skf, pd.DataFrame(kbest50), y5.label.values)"
   ]
  },
  {
   "cell_type": "code",
   "execution_count": 136,
   "metadata": {},
   "outputs": [
    {
     "name": "stdout",
     "output_type": "stream",
     "text": [
      "f1_score: 0.6734460437423888\n",
      "precision: 0.6612112316412785\n",
      "recall: 0.6862781954887218\n",
      "roc_auc: 0.7333088172671747\n"
     ]
    }
   ],
   "source": [
    "roc_auc = get_model(estimator, skf, pd.DataFrame(kbest100), y5.label.values)"
   ]
  },
  {
   "cell_type": "code",
   "execution_count": 137,
   "metadata": {
    "scrolled": true
   },
   "outputs": [
    {
     "name": "stdout",
     "output_type": "stream",
     "text": [
      "f1_score: 0.6789695210242581\n",
      "precision: 0.6675645030080235\n",
      "recall: 0.6911056487372276\n",
      "roc_auc: 0.7360448596131072\n"
     ]
    }
   ],
   "source": [
    "roc_auc = get_model(estimator, skf, pd.DataFrame(kbest150), y5.label.values)"
   ]
  },
  {
   "cell_type": "markdown",
   "metadata": {},
   "source": [
    "Отбор при помощи l1 "
   ]
  },
  {
   "cell_type": "code",
   "execution_count": 140,
   "metadata": {},
   "outputs": [],
   "source": [
    "from sklearn.linear_model import Lasso"
   ]
  },
  {
   "cell_type": "code",
   "execution_count": 146,
   "metadata": {},
   "outputs": [],
   "source": [
    "lasso = Lasso(alpha=0.01).fit(x5,y5)\n",
    "model = SelectFromModel(lasso, prefit=True)\n",
    "x5_upd = model.transform(x5)"
   ]
  },
  {
   "cell_type": "code",
   "execution_count": 149,
   "metadata": {
    "scrolled": true
   },
   "outputs": [
    {
     "name": "stdout",
     "output_type": "stream",
     "text": [
      "f1_score: 0.6796074946286205\n",
      "precision: 0.664101262467943\n",
      "recall: 0.6959514170040487\n",
      "roc_auc: 0.73428725766233\n"
     ]
    }
   ],
   "source": [
    "roc_auc = get_model(estimator, skf, pd.DataFrame(x5_upd), y5.label.values)"
   ]
  },
  {
   "cell_type": "markdown",
   "metadata": {},
   "source": [
    "Вывод: большинство признаков оказались бесполезными, качество моделей не повысилось, но удалось заметно сократить размерность датасета"
   ]
  },
  {
   "cell_type": "markdown",
   "metadata": {},
   "source": [
    "### 6. Настройка гиперпараметров модели"
   ]
  },
  {
   "cell_type": "markdown",
   "metadata": {},
   "source": [
    "6\\. Подберите оптимальные параметры модели. Обратите внимание, что в зависимости от того, как вы обработали исходные данные, сделали ли балансировку классов, сколько объектов оставили в обучающей выборке и др. оптимальные значения параметров могут меняться. Возьмите наилучшее из ваших решений на текущий момент и проведите процедуру подбора параметров модели (обратите внимание на `sklearn.model_selection.GridSearchCV`) Как подбор параметров повлиял на качество модели?\n",
    "\n",
    "Текущий наилучший результат:\n",
    "    - предварительный отбор категориальных признаков (удаление признаков с одной и очень большим количеством категорий)\n",
    "    - LabelEncoding\n",
    "    - заполнение пропусков средним значение и стандартизация для количественных признаков\n",
    "    - соотношение классов 1:1, хотя вариант как в исходной тоже имеет место быть, однако от этого пострадают другие метрики"
   ]
  },
  {
   "cell_type": "code",
   "execution_count": 416,
   "metadata": {},
   "outputs": [],
   "source": [
    "x5 = x_label_encoder.copy()\n",
    "y5 = y_label_encoder.copy()"
   ]
  },
  {
   "cell_type": "code",
   "execution_count": 417,
   "metadata": {},
   "outputs": [],
   "source": [
    "data_4_label_encoder_no_undersampling = label_encoder(data_4)\n",
    "x_label_encoder_no_undersampling = data_4_label_encoder_no_undersampling.iloc[:,:-1]\n",
    "y_label_encoder_no_undersampling = data_4_label_encoder_no_undersampling.iloc[:,-1:]\n",
    "x6 = x_label_encoder_no_undersampling.copy()\n",
    "y6 = y_label_encoder_no_undersampling.copy()"
   ]
  },
  {
   "cell_type": "code",
   "execution_count": 151,
   "metadata": {},
   "outputs": [],
   "source": [
    "# параметры для GridSearch для gradientboosting\n",
    "grad_gb_params = {\n",
    "    'n_estimators' : np.arange(100, 1000, 200),\n",
    "    'learning_rate' : [0.1, 0.01, 0.05],\n",
    "    'subsample' : [0.3, 0.5, 0.8, 1.0],\n",
    "    'max_depth' : [3, 5, 8]\n",
    "}"
   ]
  },
  {
   "cell_type": "code",
   "execution_count": 158,
   "metadata": {},
   "outputs": [
    {
     "name": "stdout",
     "output_type": "stream",
     "text": [
      "Fitting 5 folds for each of 180 candidates, totalling 900 fits\n"
     ]
    },
    {
     "name": "stderr",
     "output_type": "stream",
     "text": [
      "[Parallel(n_jobs=-1)]: Using backend LokyBackend with 4 concurrent workers.\n",
      "[Parallel(n_jobs=-1)]: Done   5 tasks      | elapsed:    3.9s\n",
      "[Parallel(n_jobs=-1)]: Done  10 tasks      | elapsed:    6.3s\n",
      "[Parallel(n_jobs=-1)]: Done  17 tasks      | elapsed:   11.2s\n",
      "[Parallel(n_jobs=-1)]: Done  24 tasks      | elapsed:   16.5s\n",
      "[Parallel(n_jobs=-1)]: Done  33 tasks      | elapsed:   30.2s\n",
      "[Parallel(n_jobs=-1)]: Done  42 tasks      | elapsed:   46.7s\n",
      "[Parallel(n_jobs=-1)]: Done  53 tasks      | elapsed:  1.2min\n",
      "[Parallel(n_jobs=-1)]: Done  64 tasks      | elapsed:  1.7min\n",
      "[Parallel(n_jobs=-1)]: Done  77 tasks      | elapsed:  2.6min\n",
      "[Parallel(n_jobs=-1)]: Done  90 tasks      | elapsed:  3.4min\n",
      "[Parallel(n_jobs=-1)]: Done 105 tasks      | elapsed:  4.2min\n",
      "[Parallel(n_jobs=-1)]: Done 120 tasks      | elapsed:  4.6min\n",
      "[Parallel(n_jobs=-1)]: Done 137 tasks      | elapsed:  5.2min\n",
      "[Parallel(n_jobs=-1)]: Done 154 tasks      | elapsed:  6.2min\n",
      "[Parallel(n_jobs=-1)]: Done 173 tasks      | elapsed:  7.8min\n",
      "[Parallel(n_jobs=-1)]: Done 192 tasks      | elapsed: 10.0min\n",
      "[Parallel(n_jobs=-1)]: Done 213 tasks      | elapsed: 11.3min\n",
      "[Parallel(n_jobs=-1)]: Done 234 tasks      | elapsed: 12.4min\n",
      "[Parallel(n_jobs=-1)]: Done 257 tasks      | elapsed: 14.7min\n",
      "[Parallel(n_jobs=-1)]: Done 280 tasks      | elapsed: 18.2min\n",
      "[Parallel(n_jobs=-1)]: Done 305 tasks      | elapsed: 21.6min\n",
      "[Parallel(n_jobs=-1)]: Done 330 tasks      | elapsed: 22.3min\n",
      "[Parallel(n_jobs=-1)]: Done 357 tasks      | elapsed: 23.3min\n",
      "[Parallel(n_jobs=-1)]: Done 384 tasks      | elapsed: 24.9min\n",
      "[Parallel(n_jobs=-1)]: Done 413 tasks      | elapsed: 26.4min\n",
      "[Parallel(n_jobs=-1)]: Done 442 tasks      | elapsed: 27.5min\n",
      "[Parallel(n_jobs=-1)]: Done 473 tasks      | elapsed: 29.9min\n",
      "[Parallel(n_jobs=-1)]: Done 504 tasks      | elapsed: 33.2min\n",
      "[Parallel(n_jobs=-1)]: Done 537 tasks      | elapsed: 34.8min\n",
      "[Parallel(n_jobs=-1)]: Done 570 tasks      | elapsed: 38.5min\n",
      "[Parallel(n_jobs=-1)]: Done 605 tasks      | elapsed: 43.9min\n",
      "[Parallel(n_jobs=-1)]: Done 640 tasks      | elapsed: 45.0min\n",
      "[Parallel(n_jobs=-1)]: Done 677 tasks      | elapsed: 46.9min\n",
      "[Parallel(n_jobs=-1)]: Done 714 tasks      | elapsed: 48.7min\n",
      "[Parallel(n_jobs=-1)]: Done 753 tasks      | elapsed: 50.5min\n",
      "[Parallel(n_jobs=-1)]: Done 792 tasks      | elapsed: 54.3min\n",
      "[Parallel(n_jobs=-1)]: Done 833 tasks      | elapsed: 56.6min\n",
      "[Parallel(n_jobs=-1)]: Done 874 tasks      | elapsed: 61.4min\n",
      "[Parallel(n_jobs=-1)]: Done 900 out of 900 | elapsed: 66.9min finished\n"
     ]
    },
    {
     "data": {
      "text/plain": [
       "GridSearchCV(cv=StratifiedKFold(n_splits=5, random_state=19, shuffle=True),\n",
       "             error_score=nan,\n",
       "             estimator=GradientBoostingClassifier(ccp_alpha=0.0,\n",
       "                                                  criterion='friedman_mse',\n",
       "                                                  init=None, learning_rate=0.1,\n",
       "                                                  loss='deviance', max_depth=3,\n",
       "                                                  max_features=None,\n",
       "                                                  max_leaf_nodes=None,\n",
       "                                                  min_impurity_decrease=0.0,\n",
       "                                                  min_impurity_split=None,\n",
       "                                                  min_samples_leaf=1,\n",
       "                                                  min_samples_split=2,\n",
       "                                                  mi...\n",
       "                                                  random_state=None,\n",
       "                                                  subsample=1.0, tol=0.0001,\n",
       "                                                  validation_fraction=0.1,\n",
       "                                                  verbose=0, warm_start=False),\n",
       "             iid='deprecated', n_jobs=-1,\n",
       "             param_grid={'learning_rate': [0.1, 0.01, 0.05],\n",
       "                         'max_depth': [3, 5, 8],\n",
       "                         'n_estimators': array([100, 300, 500, 700, 900]),\n",
       "                         'subsample': [0.3, 0.5, 0.8, 1.0]},\n",
       "             pre_dispatch='2*n_jobs', refit=True, return_train_score=False,\n",
       "             scoring='roc_auc', verbose=10)"
      ]
     },
     "execution_count": 158,
     "metadata": {},
     "output_type": "execute_result"
    }
   ],
   "source": [
    "# поиск для сетки по выборке с undersampling\n",
    "grid_cv_gb_undersampling = model_selection.GridSearchCV(estimator, grad_gb_params,\n",
    "                                                        n_jobs=-1, verbose=10, cv=skf, scoring='roc_auc')\n",
    "grid_cv_gb_undersampling.fit(x5, y5.label.values)"
   ]
  },
  {
   "cell_type": "code",
   "execution_count": 159,
   "metadata": {},
   "outputs": [
    {
     "name": "stdout",
     "output_type": "stream",
     "text": [
      "best score: 0.7400086712978557\n",
      "best param: {'learning_rate': 0.01, 'max_depth': 3, 'n_estimators': 700, 'subsample': 0.5}\n"
     ]
    }
   ],
   "source": [
    "print('best score:', grid_cv_gb_undersampling.best_score_)\n",
    "print('best param:', grid_cv_gb_undersampling.best_params_)"
   ]
  },
  {
   "cell_type": "code",
   "execution_count": 160,
   "metadata": {
    "collapsed": true
   },
   "outputs": [
    {
     "name": "stdout",
     "output_type": "stream",
     "text": [
      "Fitting 5 folds for each of 180 candidates, totalling 900 fits\n"
     ]
    },
    {
     "name": "stderr",
     "output_type": "stream",
     "text": [
      "[Parallel(n_jobs=-1)]: Using backend LokyBackend with 4 concurrent workers.\n",
      "[Parallel(n_jobs=-1)]: Done   5 tasks      | elapsed:   14.6s\n",
      "[Parallel(n_jobs=-1)]: Done  10 tasks      | elapsed:   29.5s\n",
      "[Parallel(n_jobs=-1)]: Done  17 tasks      | elapsed:  1.0min\n",
      "[Parallel(n_jobs=-1)]: Done  24 tasks      | elapsed:  1.6min\n",
      "[Parallel(n_jobs=-1)]: Done  33 tasks      | elapsed:  3.1min\n",
      "[Parallel(n_jobs=-1)]: Done  42 tasks      | elapsed:  5.0min\n",
      "[Parallel(n_jobs=-1)]: Done  53 tasks      | elapsed:  7.8min\n",
      "[Parallel(n_jobs=-1)]: Done  64 tasks      | elapsed: 11.5min\n",
      "[Parallel(n_jobs=-1)]: Done  77 tasks      | elapsed: 17.2min\n",
      "[Parallel(n_jobs=-1)]: Done  90 tasks      | elapsed: 22.6min\n",
      "[Parallel(n_jobs=-1)]: Done 105 tasks      | elapsed: 28.4min\n",
      "[Parallel(n_jobs=-1)]: Done 120 tasks      | elapsed: 30.6min\n",
      "[Parallel(n_jobs=-1)]: Done 137 tasks      | elapsed: 35.2min\n",
      "[Parallel(n_jobs=-1)]: Done 154 tasks      | elapsed: 43.0min\n",
      "[Parallel(n_jobs=-1)]: Done 173 tasks      | elapsed: 55.4min\n",
      "[Parallel(n_jobs=-1)]: Done 192 tasks      | elapsed: 70.6min\n",
      "[Parallel(n_jobs=-1)]: Done 213 tasks      | elapsed: 81.7min\n",
      "[Parallel(n_jobs=-1)]: Done 234 tasks      | elapsed: 89.8min\n",
      "[Parallel(n_jobs=-1)]: Done 257 tasks      | elapsed: 107.7min\n",
      "[Parallel(n_jobs=-1)]: Done 280 tasks      | elapsed: 131.3min\n",
      "[Parallel(n_jobs=-1)]: Done 305 tasks      | elapsed: 157.7min\n",
      "[Parallel(n_jobs=-1)]: Done 330 tasks      | elapsed: 164.2min\n",
      "[Parallel(n_jobs=-1)]: Done 357 tasks      | elapsed: 172.9min\n",
      "[Parallel(n_jobs=-1)]: Done 384 tasks      | elapsed: 185.9min\n",
      "[Parallel(n_jobs=-1)]: Done 413 tasks      | elapsed: 199.3min\n",
      "[Parallel(n_jobs=-1)]: Done 442 tasks      | elapsed: 209.0min\n",
      "[Parallel(n_jobs=-1)]: Done 473 tasks      | elapsed: 230.7min\n",
      "[Parallel(n_jobs=-1)]: Done 504 tasks      | elapsed: 256.9min\n",
      "[Parallel(n_jobs=-1)]: Done 537 tasks      | elapsed: 269.1min\n",
      "[Parallel(n_jobs=-1)]: Done 570 tasks      | elapsed: 296.0min\n",
      "[Parallel(n_jobs=-1)]: Done 605 tasks      | elapsed: 335.9min\n",
      "[Parallel(n_jobs=-1)]: Done 640 tasks      | elapsed: 343.7min\n",
      "[Parallel(n_jobs=-1)]: Done 677 tasks      | elapsed: 356.6min\n",
      "[Parallel(n_jobs=-1)]: Done 714 tasks      | elapsed: 369.9min\n",
      "[Parallel(n_jobs=-1)]: Done 753 tasks      | elapsed: 382.2min\n",
      "[Parallel(n_jobs=-1)]: Done 792 tasks      | elapsed: 409.7min\n",
      "[Parallel(n_jobs=-1)]: Done 833 tasks      | elapsed: 426.2min\n",
      "[Parallel(n_jobs=-1)]: Done 874 tasks      | elapsed: 460.5min\n",
      "[Parallel(n_jobs=-1)]: Done 900 out of 900 | elapsed: 499.7min finished\n"
     ]
    },
    {
     "data": {
      "text/plain": [
       "GridSearchCV(cv=StratifiedKFold(n_splits=5, random_state=19, shuffle=True),\n",
       "             error_score=nan,\n",
       "             estimator=GradientBoostingClassifier(ccp_alpha=0.0,\n",
       "                                                  criterion='friedman_mse',\n",
       "                                                  init=None, learning_rate=0.1,\n",
       "                                                  loss='deviance', max_depth=3,\n",
       "                                                  max_features=None,\n",
       "                                                  max_leaf_nodes=None,\n",
       "                                                  min_impurity_decrease=0.0,\n",
       "                                                  min_impurity_split=None,\n",
       "                                                  min_samples_leaf=1,\n",
       "                                                  min_samples_split=2,\n",
       "                                                  mi...\n",
       "                                                  random_state=None,\n",
       "                                                  subsample=1.0, tol=0.0001,\n",
       "                                                  validation_fraction=0.1,\n",
       "                                                  verbose=0, warm_start=False),\n",
       "             iid='deprecated', n_jobs=-1,\n",
       "             param_grid={'learning_rate': [0.1, 0.01, 0.05],\n",
       "                         'max_depth': [3, 5, 8],\n",
       "                         'n_estimators': array([100, 300, 500, 700, 900]),\n",
       "                         'subsample': [0.3, 0.5, 0.8, 1.0]},\n",
       "             pre_dispatch='2*n_jobs', refit=True, return_train_score=False,\n",
       "             scoring='roc_auc', verbose=10)"
      ]
     },
     "execution_count": 160,
     "metadata": {},
     "output_type": "execute_result"
    }
   ],
   "source": [
    "# поиск для сетки по выборке без undersampling\n",
    "grid_cv_gb_no_undersampling = model_selection.GridSearchCV(estimator, grad_gb_params,\n",
    "                                                           n_jobs=-1, verbose=10, cv=skf, scoring='roc_auc')\n",
    "grid_cv_gb_no_undersampling.fit(x6, y6.label.values)"
   ]
  },
  {
   "cell_type": "code",
   "execution_count": 161,
   "metadata": {
    "scrolled": false
   },
   "outputs": [
    {
     "name": "stdout",
     "output_type": "stream",
     "text": [
      "best score: 0.7376342552051642\n",
      "best param: {'learning_rate': 0.01, 'max_depth': 3, 'n_estimators': 700, 'subsample': 0.8}\n"
     ]
    }
   ],
   "source": [
    "print('best score:', grid_cv_gb_no_undersampling.best_score_)\n",
    "print('best param:', grid_cv_gb_no_undersampling.best_params_)"
   ]
  },
  {
   "cell_type": "code",
   "execution_count": 292,
   "metadata": {},
   "outputs": [
    {
     "name": "stdout",
     "output_type": "stream",
     "text": [
      "Fitting 3 folds for each of 27 candidates, totalling 81 fits\n"
     ]
    },
    {
     "name": "stderr",
     "output_type": "stream",
     "text": [
      "[Parallel(n_jobs=-1)]: Using backend LokyBackend with 4 concurrent workers.\n",
      "[Parallel(n_jobs=-1)]: Done  42 tasks      | elapsed:  3.7min\n",
      "[Parallel(n_jobs=-1)]: Done  81 out of  81 | elapsed:  7.3min finished\n"
     ]
    },
    {
     "data": {
      "text/plain": [
       "GridSearchCV(cv=3, error_score=nan,\n",
       "             estimator=XGBClassifier(base_score=None, booster=None,\n",
       "                                     colsample_bylevel=None,\n",
       "                                     colsample_bynode=None,\n",
       "                                     colsample_bytree=None, gamma=None,\n",
       "                                     gpu_id=None, importance_type='gain',\n",
       "                                     interaction_constraints=None,\n",
       "                                     learning_rate=None, max_delta_step=None,\n",
       "                                     max_depth=None, min_child_weight=None,\n",
       "                                     missing=nan, monotone_constraints=None,\n",
       "                                     n_estim...\n",
       "                                     random_state=None, reg_alpha=None,\n",
       "                                     reg_lambda=None, scale_pos_weight=None,\n",
       "                                     subsample=None, tree_method=None,\n",
       "                                     validate_parameters=False,\n",
       "                                     verbosity=None),\n",
       "             iid='deprecated', n_jobs=-1,\n",
       "             param_grid={'learning_rate': [0.05, 0.1, 0.01],\n",
       "                         'max_depth': [2, 3, 4], 'subsample': [0.8, 1.0, 0.5]},\n",
       "             pre_dispatch='2*n_jobs', refit=True, return_train_score=False,\n",
       "             scoring='roc_auc', verbose=1)"
      ]
     },
     "execution_count": 292,
     "metadata": {},
     "output_type": "execute_result"
    }
   ],
   "source": [
    "# попробуем xgboost\n",
    "bst = XGBClassifier(n_estimators=700)\n",
    "params = {'max_depth': [2, 3, 4],\n",
    "          'learning_rate': [0.05, 0.1, 0.01],\n",
    "          'subsample': [0.8, 1.0, 0.5]}\n",
    "\n",
    "xgb_grid = model_selection.GridSearchCV(bst, params, scoring = 'roc_auc', cv=3, n_jobs=-1, verbose=1)\n",
    "xgb_grid.fit(x5, y5.label.values)"
   ]
  },
  {
   "cell_type": "code",
   "execution_count": 294,
   "metadata": {},
   "outputs": [
    {
     "data": {
      "text/plain": [
       "0.7372706322934649"
      ]
     },
     "execution_count": 294,
     "metadata": {},
     "output_type": "execute_result"
    }
   ],
   "source": [
    "xgb_grid.best_score_"
   ]
  },
  {
   "cell_type": "code",
   "execution_count": 276,
   "metadata": {},
   "outputs": [
    {
     "data": {
      "text/plain": [
       "{'learning_rate': 0.01, 'max_depth': 3, 'n_estimators': 700, 'subsample': 0.8}"
      ]
     },
     "execution_count": 276,
     "metadata": {},
     "output_type": "execute_result"
    }
   ],
   "source": [
    "xgb_grid.best_params_"
   ]
  },
  {
   "cell_type": "markdown",
   "metadata": {},
   "source": [
    "Настройка гиперпараметров позволила незначительно повысить качество."
   ]
  },
  {
   "cell_type": "markdown",
   "metadata": {},
   "source": [
    "### 7. Вклад признаков"
   ]
  },
  {
   "cell_type": "markdown",
   "metadata": {},
   "source": [
    "7\\. Предложите методику оценки того, какие признаки внесли наибольший вклад в модель (например, это могут быть веса в случае регрессии, а также большое количество моделей реализуют метод `feature_importances_` - оценка важности признаков). На основе предложенной методики проанализируйте, какие признаки внесли больший вклад в модель, а какие меньший?"
   ]
  },
  {
   "cell_type": "code",
   "execution_count": 418,
   "metadata": {
    "scrolled": true
   },
   "outputs": [
    {
     "data": {
      "text/plain": [
       "XGBClassifier(base_score=0.5, booster=None, colsample_bylevel=1,\n",
       "              colsample_bynode=1, colsample_bytree=1, gamma=0, gpu_id=-1,\n",
       "              importance_type='gain', interaction_constraints=None,\n",
       "              learning_rate=0.01, max_delta_step=0, max_depth=3,\n",
       "              min_child_weight=1, missing=nan, monotone_constraints=None,\n",
       "              n_estimators=700, n_jobs=0, num_parallel_tree=1,\n",
       "              objective='binary:logistic', random_state=0, reg_alpha=0,\n",
       "              reg_lambda=1, scale_pos_weight=1, subsample=0.8, tree_method=None,\n",
       "              validate_parameters=False, verbosity=None)"
      ]
     },
     "execution_count": 418,
     "metadata": {},
     "output_type": "execute_result"
    }
   ],
   "source": [
    "xgb_estimator = XGBClassifier(learning_rate=0.01, max_depth=3, n_estimators=700, subsample=0.8)\n",
    "xgb_estimator.fit(x5, y5.label.values)"
   ]
  },
  {
   "cell_type": "code",
   "execution_count": 419,
   "metadata": {},
   "outputs": [
    {
     "data": {
      "text/html": [
       "<div>\n",
       "<style scoped>\n",
       "    .dataframe tbody tr th:only-of-type {\n",
       "        vertical-align: middle;\n",
       "    }\n",
       "\n",
       "    .dataframe tbody tr th {\n",
       "        vertical-align: top;\n",
       "    }\n",
       "\n",
       "    .dataframe thead th {\n",
       "        text-align: right;\n",
       "    }\n",
       "</style>\n",
       "<table border=\"1\" class=\"dataframe\">\n",
       "  <thead>\n",
       "    <tr style=\"text-align: right;\">\n",
       "      <th></th>\n",
       "      <th>importance</th>\n",
       "      <th>label</th>\n",
       "    </tr>\n",
       "  </thead>\n",
       "  <tbody>\n",
       "    <tr>\n",
       "      <th>114</th>\n",
       "      <td>0.053477</td>\n",
       "      <td>Var126</td>\n",
       "    </tr>\n",
       "    <tr>\n",
       "      <th>63</th>\n",
       "      <td>0.034610</td>\n",
       "      <td>Var74</td>\n",
       "    </tr>\n",
       "    <tr>\n",
       "      <th>11</th>\n",
       "      <td>0.034511</td>\n",
       "      <td>Var13</td>\n",
       "    </tr>\n",
       "    <tr>\n",
       "      <th>62</th>\n",
       "      <td>0.027792</td>\n",
       "      <td>Var73</td>\n",
       "    </tr>\n",
       "    <tr>\n",
       "      <th>181</th>\n",
       "      <td>0.025542</td>\n",
       "      <td>Var218</td>\n",
       "    </tr>\n",
       "    <tr>\n",
       "      <th>172</th>\n",
       "      <td>0.023110</td>\n",
       "      <td>Var189</td>\n",
       "    </tr>\n",
       "    <tr>\n",
       "      <th>178</th>\n",
       "      <td>0.019520</td>\n",
       "      <td>Var205</td>\n",
       "    </tr>\n",
       "    <tr>\n",
       "      <th>184</th>\n",
       "      <td>0.019196</td>\n",
       "      <td>Var229</td>\n",
       "    </tr>\n",
       "    <tr>\n",
       "      <th>17</th>\n",
       "      <td>0.015583</td>\n",
       "      <td>Var21</td>\n",
       "    </tr>\n",
       "    <tr>\n",
       "      <th>101</th>\n",
       "      <td>0.015097</td>\n",
       "      <td>Var113</td>\n",
       "    </tr>\n",
       "  </tbody>\n",
       "</table>\n",
       "</div>"
      ],
      "text/plain": [
       "     importance   label\n",
       "114    0.053477  Var126\n",
       "63     0.034610   Var74\n",
       "11     0.034511   Var13\n",
       "62     0.027792   Var73\n",
       "181    0.025542  Var218\n",
       "172    0.023110  Var189\n",
       "178    0.019520  Var205\n",
       "184    0.019196  Var229\n",
       "17     0.015583   Var21\n",
       "101    0.015097  Var113"
      ]
     },
     "execution_count": 419,
     "metadata": {},
     "output_type": "execute_result"
    }
   ],
   "source": [
    "# определяем важность признаков, подход через feature_importance\n",
    "importance = pd.DataFrame(xgb_estimator.feature_importances_, columns=['importance'])\n",
    "importance['label'] = x5.columns.values\n",
    "importance.sort_values('importance', inplace=True, ascending=False)\n",
    "importance.head(10)"
   ]
  },
  {
   "cell_type": "code",
   "execution_count": 17,
   "metadata": {
    "scrolled": false
   },
   "outputs": [
    {
     "data": {
      "image/png": "[encoded data removed]",
      "text/plain": [
       "<Figure size 864x2160 with 1 Axes>"
      ]
     },
     "metadata": {
      "needs_background": "light"
     },
     "output_type": "display_data"
    }
   ],
   "source": [
    "# определяем важность признаков, подход через метод plot_importance библиотеки xgboost\n",
    "fig, ax = plt.subplots(figsize=(12, 30))\n",
    "xgb.plot_importance(xgb_estimator, ax=ax)\n",
    "plt.show()"
   ]
  },
  {
   "cell_type": "markdown",
   "metadata": {},
   "source": [
    "Большенство признаков являются неинформативными. Для посторении модели без существенной потери качества можно смело оставлять ~30 шт наиболее информативных по одному из показанных подходов."
   ]
  },
  {
   "cell_type": "markdown",
   "metadata": {},
   "source": [
    "### 8. Анализ ошибок классификации"
   ]
  },
  {
   "cell_type": "markdown",
   "metadata": {},
   "source": [
    "8\\. Напоследок давайте посмотрим на объекты. На каких объектах достигается наибольшая ошибка классификации? Есть ли межу этими объектами что-то общее? Видны ли какие-либо закономерности? Предположите, почему наибольшая ошибка достигается именно на этих объектах. В данном случае \"наибольшую\" ошибку можно понимать как отнесение объекта с чужому классу с большой долей уверенности (с высокой вероятностью)."
   ]
  },
  {
   "cell_type": "code",
   "execution_count": 336,
   "metadata": {},
   "outputs": [],
   "source": [
    "import itertools"
   ]
  },
  {
   "cell_type": "code",
   "execution_count": 366,
   "metadata": {
    "scrolled": false
   },
   "outputs": [
    {
     "name": "stdout",
     "output_type": "stream",
     "text": [
      "Confusion matrix, without normalization\n",
      "[[18084  9640]\n",
      " [  587  1689]]\n"
     ]
    },
    {
     "data": {
      "image/png": "[encoded data removed]",
      "text/plain": [
       "<Figure size 720x576 with 2 Axes>"
      ]
     },
     "metadata": {
      "needs_background": "light"
     },
     "output_type": "display_data"
    }
   ],
   "source": [
    "def plot_confusion_matrix(cm, classes,\n",
    "                          normalize=False,\n",
    "                          title='Confusion matrix',\n",
    "                          cmap=plt.cm.Blues):\n",
    "    \"\"\"\n",
    "    This function prints and plots the confusion matrix.\n",
    "    Normalization can be applied by setting `normalize=True`.\n",
    "    \"\"\"\n",
    "    plt.imshow(cm, interpolation='nearest', cmap=cmap)\n",
    "    plt.title(title)\n",
    "    plt.colorbar()\n",
    "    tick_marks = np.arange(len(classes))\n",
    "    plt.xticks(tick_marks, classes, rotation=45)\n",
    "    plt.yticks(tick_marks, classes)\n",
    "\n",
    "    if normalize:\n",
    "        cm = cm.astype('float') / cm.sum(axis=1)[:, np.newaxis]\n",
    "        print(\"Normalized confusion matrix\")\n",
    "    else:\n",
    "        print('Confusion matrix, without normalization')\n",
    "\n",
    "    print(cm)\n",
    "\n",
    "    thresh = cm.max() / 2.\n",
    "    for i, j in itertools.product(range(cm.shape[0]), range(cm.shape[1])):\n",
    "        plt.text(j, i, cm[i, j],\n",
    "                 horizontalalignment=\"center\",\n",
    "                 color=\"white\" if cm[i, j] > thresh else \"black\")\n",
    "\n",
    "    plt.tight_layout()\n",
    "    plt.ylabel('Реальное значение')\n",
    "    plt.xlabel('Предсказанное значение')\n",
    "\n",
    "font = {'size' : 15}\n",
    "\n",
    "plt.rc('font', **font)\n",
    "\n",
    "cnf_matrix = metrics.confusion_matrix(y6.label.values, xgb_estimator.predict(x6))\n",
    "plt.figure(figsize=(10, 8))\n",
    "plot_confusion_matrix(cnf_matrix, classes=['Не отток', 'Отток'],\n",
    "                      title='Матрица ошибок')\n",
    "plt.savefig(\"conf_matrix.png\")\n",
    "plt.show()"
   ]
  },
  {
   "cell_type": "code",
   "execution_count": 382,
   "metadata": {},
   "outputs": [
    {
     "data": {
      "text/html": [
       "<div>\n",
       "<style scoped>\n",
       "    .dataframe tbody tr th:only-of-type {\n",
       "        vertical-align: middle;\n",
       "    }\n",
       "\n",
       "    .dataframe tbody tr th {\n",
       "        vertical-align: top;\n",
       "    }\n",
       "\n",
       "    .dataframe thead th {\n",
       "        text-align: right;\n",
       "    }\n",
       "</style>\n",
       "<table border=\"1\" class=\"dataframe\">\n",
       "  <thead>\n",
       "    <tr style=\"text-align: right;\">\n",
       "      <th></th>\n",
       "      <th>Var1</th>\n",
       "      <th>Var2</th>\n",
       "      <th>Var3</th>\n",
       "      <th>Var4</th>\n",
       "      <th>Var5</th>\n",
       "      <th>Var6</th>\n",
       "      <th>Var7</th>\n",
       "      <th>Var9</th>\n",
       "      <th>Var10</th>\n",
       "      <th>Var11</th>\n",
       "      <th>...</th>\n",
       "      <th>Var196</th>\n",
       "      <th>Var201</th>\n",
       "      <th>Var203</th>\n",
       "      <th>Var205</th>\n",
       "      <th>Var208</th>\n",
       "      <th>Var210</th>\n",
       "      <th>Var218</th>\n",
       "      <th>Var223</th>\n",
       "      <th>Var225</th>\n",
       "      <th>Var229</th>\n",
       "    </tr>\n",
       "  </thead>\n",
       "  <tbody>\n",
       "    <tr>\n",
       "      <th>0</th>\n",
       "      <td>-3.761848e-16</td>\n",
       "      <td>-6.013185e-17</td>\n",
       "      <td>0.0</td>\n",
       "      <td>9.820395e-17</td>\n",
       "      <td>4.901509e-16</td>\n",
       "      <td>-0.236062</td>\n",
       "      <td>4.456295e-02</td>\n",
       "      <td>3.639485e-16</td>\n",
       "      <td>-8.081573e-16</td>\n",
       "      <td>0.0</td>\n",
       "      <td>...</td>\n",
       "      <td>0</td>\n",
       "      <td>0</td>\n",
       "      <td>1</td>\n",
       "      <td>0</td>\n",
       "      <td>1</td>\n",
       "      <td>5</td>\n",
       "      <td>1</td>\n",
       "      <td>4</td>\n",
       "      <td>0</td>\n",
       "      <td>0</td>\n",
       "    </tr>\n",
       "    <tr>\n",
       "      <th>1</th>\n",
       "      <td>-3.761848e-16</td>\n",
       "      <td>-6.013185e-17</td>\n",
       "      <td>0.0</td>\n",
       "      <td>9.820395e-17</td>\n",
       "      <td>4.901509e-16</td>\n",
       "      <td>-0.212918</td>\n",
       "      <td>4.456295e-02</td>\n",
       "      <td>3.639485e-16</td>\n",
       "      <td>-8.081573e-16</td>\n",
       "      <td>0.0</td>\n",
       "      <td>...</td>\n",
       "      <td>0</td>\n",
       "      <td>0</td>\n",
       "      <td>1</td>\n",
       "      <td>2</td>\n",
       "      <td>1</td>\n",
       "      <td>5</td>\n",
       "      <td>2</td>\n",
       "      <td>1</td>\n",
       "      <td>0</td>\n",
       "      <td>1</td>\n",
       "    </tr>\n",
       "    <tr>\n",
       "      <th>2</th>\n",
       "      <td>-3.761848e-16</td>\n",
       "      <td>-6.013185e-17</td>\n",
       "      <td>0.0</td>\n",
       "      <td>9.820395e-17</td>\n",
       "      <td>4.901509e-16</td>\n",
       "      <td>-0.351781</td>\n",
       "      <td>2.424859e+00</td>\n",
       "      <td>3.639485e-16</td>\n",
       "      <td>-8.081573e-16</td>\n",
       "      <td>0.0</td>\n",
       "      <td>...</td>\n",
       "      <td>0</td>\n",
       "      <td>0</td>\n",
       "      <td>1</td>\n",
       "      <td>2</td>\n",
       "      <td>1</td>\n",
       "      <td>5</td>\n",
       "      <td>2</td>\n",
       "      <td>1</td>\n",
       "      <td>1</td>\n",
       "      <td>1</td>\n",
       "    </tr>\n",
       "    <tr>\n",
       "      <th>3</th>\n",
       "      <td>-3.761848e-16</td>\n",
       "      <td>-6.013185e-17</td>\n",
       "      <td>0.0</td>\n",
       "      <td>9.820395e-17</td>\n",
       "      <td>4.901509e-16</td>\n",
       "      <td>-0.609671</td>\n",
       "      <td>-1.145585e+00</td>\n",
       "      <td>3.639485e-16</td>\n",
       "      <td>-8.081573e-16</td>\n",
       "      <td>0.0</td>\n",
       "      <td>...</td>\n",
       "      <td>0</td>\n",
       "      <td>0</td>\n",
       "      <td>1</td>\n",
       "      <td>1</td>\n",
       "      <td>1</td>\n",
       "      <td>5</td>\n",
       "      <td>2</td>\n",
       "      <td>1</td>\n",
       "      <td>0</td>\n",
       "      <td>0</td>\n",
       "    </tr>\n",
       "    <tr>\n",
       "      <th>4</th>\n",
       "      <td>-3.761848e-16</td>\n",
       "      <td>-6.013185e-17</td>\n",
       "      <td>0.0</td>\n",
       "      <td>9.820395e-17</td>\n",
       "      <td>4.901509e-16</td>\n",
       "      <td>0.236736</td>\n",
       "      <td>4.456295e-02</td>\n",
       "      <td>3.639485e-16</td>\n",
       "      <td>-8.081573e-16</td>\n",
       "      <td>0.0</td>\n",
       "      <td>...</td>\n",
       "      <td>0</td>\n",
       "      <td>0</td>\n",
       "      <td>1</td>\n",
       "      <td>2</td>\n",
       "      <td>1</td>\n",
       "      <td>5</td>\n",
       "      <td>2</td>\n",
       "      <td>1</td>\n",
       "      <td>1</td>\n",
       "      <td>1</td>\n",
       "    </tr>\n",
       "    <tr>\n",
       "      <th>...</th>\n",
       "      <td>...</td>\n",
       "      <td>...</td>\n",
       "      <td>...</td>\n",
       "      <td>...</td>\n",
       "      <td>...</td>\n",
       "      <td>...</td>\n",
       "      <td>...</td>\n",
       "      <td>...</td>\n",
       "      <td>...</td>\n",
       "      <td>...</td>\n",
       "      <td>...</td>\n",
       "      <td>...</td>\n",
       "      <td>...</td>\n",
       "      <td>...</td>\n",
       "      <td>...</td>\n",
       "      <td>...</td>\n",
       "      <td>...</td>\n",
       "      <td>...</td>\n",
       "      <td>...</td>\n",
       "      <td>...</td>\n",
       "      <td>...</td>\n",
       "    </tr>\n",
       "    <tr>\n",
       "      <th>29995</th>\n",
       "      <td>-3.761848e-16</td>\n",
       "      <td>-6.013185e-17</td>\n",
       "      <td>0.0</td>\n",
       "      <td>9.820395e-17</td>\n",
       "      <td>4.901509e-16</td>\n",
       "      <td>-0.275737</td>\n",
       "      <td>4.456295e-02</td>\n",
       "      <td>3.639485e-16</td>\n",
       "      <td>-8.081573e-16</td>\n",
       "      <td>0.0</td>\n",
       "      <td>...</td>\n",
       "      <td>0</td>\n",
       "      <td>2</td>\n",
       "      <td>1</td>\n",
       "      <td>2</td>\n",
       "      <td>1</td>\n",
       "      <td>5</td>\n",
       "      <td>1</td>\n",
       "      <td>1</td>\n",
       "      <td>3</td>\n",
       "      <td>1</td>\n",
       "    </tr>\n",
       "    <tr>\n",
       "      <th>29996</th>\n",
       "      <td>-3.761848e-16</td>\n",
       "      <td>-6.013185e-17</td>\n",
       "      <td>0.0</td>\n",
       "      <td>9.820395e-17</td>\n",
       "      <td>-2.188796e+00</td>\n",
       "      <td>0.000000</td>\n",
       "      <td>-1.510091e-16</td>\n",
       "      <td>3.639485e-16</td>\n",
       "      <td>-2.454213e+00</td>\n",
       "      <td>0.0</td>\n",
       "      <td>...</td>\n",
       "      <td>0</td>\n",
       "      <td>0</td>\n",
       "      <td>1</td>\n",
       "      <td>1</td>\n",
       "      <td>1</td>\n",
       "      <td>5</td>\n",
       "      <td>1</td>\n",
       "      <td>1</td>\n",
       "      <td>0</td>\n",
       "      <td>0</td>\n",
       "    </tr>\n",
       "    <tr>\n",
       "      <th>29997</th>\n",
       "      <td>-3.761848e-16</td>\n",
       "      <td>-6.013185e-17</td>\n",
       "      <td>0.0</td>\n",
       "      <td>9.820395e-17</td>\n",
       "      <td>4.901509e-16</td>\n",
       "      <td>0.279717</td>\n",
       "      <td>4.456295e-02</td>\n",
       "      <td>3.639485e-16</td>\n",
       "      <td>-8.081573e-16</td>\n",
       "      <td>0.0</td>\n",
       "      <td>...</td>\n",
       "      <td>0</td>\n",
       "      <td>2</td>\n",
       "      <td>1</td>\n",
       "      <td>3</td>\n",
       "      <td>1</td>\n",
       "      <td>5</td>\n",
       "      <td>1</td>\n",
       "      <td>1</td>\n",
       "      <td>2</td>\n",
       "      <td>2</td>\n",
       "    </tr>\n",
       "    <tr>\n",
       "      <th>29998</th>\n",
       "      <td>-3.761848e-16</td>\n",
       "      <td>-6.013185e-17</td>\n",
       "      <td>0.0</td>\n",
       "      <td>9.820395e-17</td>\n",
       "      <td>4.901509e-16</td>\n",
       "      <td>-0.285656</td>\n",
       "      <td>-1.145585e+00</td>\n",
       "      <td>3.639485e-16</td>\n",
       "      <td>-8.081573e-16</td>\n",
       "      <td>0.0</td>\n",
       "      <td>...</td>\n",
       "      <td>0</td>\n",
       "      <td>0</td>\n",
       "      <td>1</td>\n",
       "      <td>2</td>\n",
       "      <td>1</td>\n",
       "      <td>5</td>\n",
       "      <td>2</td>\n",
       "      <td>1</td>\n",
       "      <td>0</td>\n",
       "      <td>0</td>\n",
       "    </tr>\n",
       "    <tr>\n",
       "      <th>29999</th>\n",
       "      <td>-3.761848e-16</td>\n",
       "      <td>-6.013185e-17</td>\n",
       "      <td>0.0</td>\n",
       "      <td>9.820395e-17</td>\n",
       "      <td>4.901509e-16</td>\n",
       "      <td>-0.272431</td>\n",
       "      <td>4.456295e-02</td>\n",
       "      <td>3.639485e-16</td>\n",
       "      <td>-8.081573e-16</td>\n",
       "      <td>0.0</td>\n",
       "      <td>...</td>\n",
       "      <td>0</td>\n",
       "      <td>0</td>\n",
       "      <td>1</td>\n",
       "      <td>2</td>\n",
       "      <td>1</td>\n",
       "      <td>5</td>\n",
       "      <td>1</td>\n",
       "      <td>2</td>\n",
       "      <td>1</td>\n",
       "      <td>2</td>\n",
       "    </tr>\n",
       "  </tbody>\n",
       "</table>\n",
       "<p>30000 rows × 185 columns</p>\n",
       "</div>"
      ],
      "text/plain": [
       "               Var1          Var2  Var3          Var4          Var5      Var6  \\\n",
       "0     -3.761848e-16 -6.013185e-17   0.0  9.820395e-17  4.901509e-16 -0.236062   \n",
       "1     -3.761848e-16 -6.013185e-17   0.0  9.820395e-17  4.901509e-16 -0.212918   \n",
       "2     -3.761848e-16 -6.013185e-17   0.0  9.820395e-17  4.901509e-16 -0.351781   \n",
       "3     -3.761848e-16 -6.013185e-17   0.0  9.820395e-17  4.901509e-16 -0.609671   \n",
       "4     -3.761848e-16 -6.013185e-17   0.0  9.820395e-17  4.901509e-16  0.236736   \n",
       "...             ...           ...   ...           ...           ...       ...   \n",
       "29995 -3.761848e-16 -6.013185e-17   0.0  9.820395e-17  4.901509e-16 -0.275737   \n",
       "29996 -3.761848e-16 -6.013185e-17   0.0  9.820395e-17 -2.188796e+00  0.000000   \n",
       "29997 -3.761848e-16 -6.013185e-17   0.0  9.820395e-17  4.901509e-16  0.279717   \n",
       "29998 -3.761848e-16 -6.013185e-17   0.0  9.820395e-17  4.901509e-16 -0.285656   \n",
       "29999 -3.761848e-16 -6.013185e-17   0.0  9.820395e-17  4.901509e-16 -0.272431   \n",
       "\n",
       "               Var7          Var9         Var10  Var11  ...  Var196  Var201  \\\n",
       "0      4.456295e-02  3.639485e-16 -8.081573e-16    0.0  ...       0       0   \n",
       "1      4.456295e-02  3.639485e-16 -8.081573e-16    0.0  ...       0       0   \n",
       "2      2.424859e+00  3.639485e-16 -8.081573e-16    0.0  ...       0       0   \n",
       "3     -1.145585e+00  3.639485e-16 -8.081573e-16    0.0  ...       0       0   \n",
       "4      4.456295e-02  3.639485e-16 -8.081573e-16    0.0  ...       0       0   \n",
       "...             ...           ...           ...    ...  ...     ...     ...   \n",
       "29995  4.456295e-02  3.639485e-16 -8.081573e-16    0.0  ...       0       2   \n",
       "29996 -1.510091e-16  3.639485e-16 -2.454213e+00    0.0  ...       0       0   \n",
       "29997  4.456295e-02  3.639485e-16 -8.081573e-16    0.0  ...       0       2   \n",
       "29998 -1.145585e+00  3.639485e-16 -8.081573e-16    0.0  ...       0       0   \n",
       "29999  4.456295e-02  3.639485e-16 -8.081573e-16    0.0  ...       0       0   \n",
       "\n",
       "       Var203  Var205  Var208  Var210  Var218  Var223  Var225  Var229  \n",
       "0           1       0       1       5       1       4       0       0  \n",
       "1           1       2       1       5       2       1       0       1  \n",
       "2           1       2       1       5       2       1       1       1  \n",
       "3           1       1       1       5       2       1       0       0  \n",
       "4           1       2       1       5       2       1       1       1  \n",
       "...       ...     ...     ...     ...     ...     ...     ...     ...  \n",
       "29995       1       2       1       5       1       1       3       1  \n",
       "29996       1       1       1       5       1       1       0       0  \n",
       "29997       1       3       1       5       1       1       2       2  \n",
       "29998       1       2       1       5       2       1       0       0  \n",
       "29999       1       2       1       5       1       2       1       2  \n",
       "\n",
       "[30000 rows x 185 columns]"
      ]
     },
     "execution_count": 382,
     "metadata": {},
     "output_type": "execute_result"
    }
   ],
   "source": [
    "x6"
   ]
  },
  {
   "cell_type": "code",
   "execution_count": 420,
   "metadata": {},
   "outputs": [],
   "source": [
    "data_with_predict = x6.copy()\n",
    "data_with_predict['labels'] = y6.copy()\n",
    "data_with_predict['predicted'] = xgb_estimator.predict(x6.iloc[:,:185])\n",
    "data_with_predict['probability'] = xgb_estimator.predict_proba(x6.iloc[:,:185])[:,1]"
   ]
  },
  {
   "cell_type": "code",
   "execution_count": 421,
   "metadata": {},
   "outputs": [],
   "source": [
    "# возвращает объекты, на которых совершены ошибки первого и второго рода\n",
    "# параметры thresh_1 и thresh_2 - пороги для объектов, на которых модель совершила наибольшую ошибку\n",
    "def errorObjects(data, thresh_1, thresh_2):\n",
    "    df_first_type_err = pd.DataFrame([])\n",
    "    df_second_type_err = pd.DataFrame([])\n",
    "    for sample in range(len(data)):\n",
    "        if (data['labels'][sample] == 1.0) and (data['predicted'][sample] == -1.0):\n",
    "            if abs(1-data['probability'][sample]) > thresh_1:\n",
    "                df_first_type_err = df_first_type_err.append(data.loc[sample])\n",
    "        if (data['labels'][sample] == -1.0) and (data['predicted'][sample] == 1.0):\n",
    "            if abs(data['probability'][sample]) > thresh_2:\n",
    "                df_second_type_err = df_second_type_err.append(data.loc[sample])\n",
    "    print ('size of first type error samples: ', str(len(df_first_type_err)))\n",
    "    print ('size of second type error samples: ', str(len(df_second_type_err)))\n",
    "    return(df_first_type_err, df_second_type_err)"
   ]
  },
  {
   "cell_type": "code",
   "execution_count": 422,
   "metadata": {},
   "outputs": [
    {
     "name": "stdout",
     "output_type": "stream",
     "text": [
      "size of first type error samples:  573\n",
      "size of second type error samples:  9715\n"
     ]
    }
   ],
   "source": [
    "first_type_err, second_type_err = errorObjects(data_with_predict, 0.3, 0.001)\n"
   ]
  },
  {
   "cell_type": "code",
   "execution_count": 21,
   "metadata": {
    "scrolled": false
   },
   "outputs": [
    {
     "data": {
      "image/png": "[encoded data removed]",
      "text/plain": [
       "<Figure size 1440x4320 with 10 Axes>"
      ]
     },
     "metadata": {
      "needs_background": "light"
     },
     "output_type": "display_data"
    }
   ],
   "source": [
    "fig, axs = plt.subplots(10, figsize = (20,60))\n",
    "sns.set(color_codes=True)\n",
    "for ax, column in zip(axs,  importance.iloc[:10,1]):\n",
    "    sns.distplot(first_type_err[column][data_with_predict['labels'] == 1], ax = ax, color = \"green\", label = str(column)+\" label = 1\")\n",
    "    sns.distplot(second_type_err[column][data_with_predict['labels'] == -1], ax = ax, color = \"orange\", label = str(column)+\" label = -1\")"
   ]
  },
  {
   "cell_type": "markdown",
   "metadata": {},
   "source": [
    "Вывод: Построенная модель допускает большое количество ошибок первого и второго рода, преимущственно второго (приравнивание лояльного клиента за уходящего, может вызывать дополнительные затраты на ненужное удержание).\n",
    "Объекты на которых совершена наибольшая ошибка похожи между собой, это видно на гистограммах. Для данной модели следует подбирать порог, чтобы подобрать соотношение ошибок первого/второго рода. Объекты, на которых совершена ошибка второго рода, скорее всего, являются выбросами"
   ]
  },
  {
   "cell_type": "markdown",
   "metadata": {},
   "source": [
    "### 9. Финальная модель"
   ]
  },
  {
   "cell_type": "markdown",
   "metadata": {},
   "source": [
    "9\\. По итогам проведенных экспериментов постройте финальную решение - модель с наилучшим качеством. Укажите, какие преобразования данных, параметры и пр. вы выбрали для построения финальной модели.\n",
    "\n",
    "- удаление неинформативных признаков, особенно категориальных\n",
    "- замена пропусков на средние значение\n",
    "- labelencoding для категориальных\n",
    "- xgboost_classifier \n",
    "- подбор гиперпараметров по сетке \n",
    "- построение решения по 30 наиболее информативным признакам"
   ]
  },
  {
   "cell_type": "code",
   "execution_count": 423,
   "metadata": {},
   "outputs": [],
   "source": [
    "data_final = train.copy()\n",
    "data_final = data_final.dropna(axis=1, how='all')\n",
    "data_final = num_features(data_final)\n",
    "data_final = cat_features(data_final)\n",
    "data_final = label_encoder(data_final)\n",
    "x_final = data_final.iloc[:,:-1]\n",
    "y_final = data_final.iloc[:,-1:]"
   ]
  },
  {
   "cell_type": "code",
   "execution_count": 425,
   "metadata": {},
   "outputs": [
    {
     "name": "stdout",
     "output_type": "stream",
     "text": [
      "f1_score: 0.013913142107560183\n",
      "precision: 0.7057142857142857\n",
      "recall: 0.007031039136302294\n",
      "roc_auc: 0.7394056820604178\n"
     ]
    }
   ],
   "source": [
    "xgb_estimator = XGBClassifier(learning_rate=0.01, max_depth=3, n_estimators=700, subsample=0.8)\n",
    "roc_auc = get_model(xgb_estimator, skf, x_final[importance['label'][:30]], y_final.label.values)"
   ]
  },
  {
   "cell_type": "code",
   "execution_count": 428,
   "metadata": {},
   "outputs": [
    {
     "data": {
      "text/html": [
       "<div>\n",
       "<style scoped>\n",
       "    .dataframe tbody tr th:only-of-type {\n",
       "        vertical-align: middle;\n",
       "    }\n",
       "\n",
       "    .dataframe tbody tr th {\n",
       "        vertical-align: top;\n",
       "    }\n",
       "\n",
       "    .dataframe thead th {\n",
       "        text-align: right;\n",
       "    }\n",
       "</style>\n",
       "<table border=\"1\" class=\"dataframe\">\n",
       "  <thead>\n",
       "    <tr style=\"text-align: right;\">\n",
       "      <th></th>\n",
       "      <th>Var126</th>\n",
       "      <th>Var74</th>\n",
       "      <th>Var13</th>\n",
       "      <th>Var73</th>\n",
       "      <th>Var218</th>\n",
       "      <th>Var189</th>\n",
       "      <th>Var205</th>\n",
       "      <th>Var229</th>\n",
       "      <th>Var21</th>\n",
       "      <th>Var113</th>\n",
       "      <th>...</th>\n",
       "      <th>Var153</th>\n",
       "      <th>Var147</th>\n",
       "      <th>Var172</th>\n",
       "      <th>Var59</th>\n",
       "      <th>Var188</th>\n",
       "      <th>Var159</th>\n",
       "      <th>Var127</th>\n",
       "      <th>Var203</th>\n",
       "      <th>Var51</th>\n",
       "      <th>Var38</th>\n",
       "    </tr>\n",
       "  </thead>\n",
       "  <tbody>\n",
       "    <tr>\n",
       "      <th>0</th>\n",
       "      <td>1.186019e+00</td>\n",
       "      <td>-2.323950e-01</td>\n",
       "      <td>-0.469509</td>\n",
       "      <td>-0.382299</td>\n",
       "      <td>1</td>\n",
       "      <td>-1.012122e-15</td>\n",
       "      <td>0</td>\n",
       "      <td>0</td>\n",
       "      <td>-0.205802</td>\n",
       "      <td>0.549330</td>\n",
       "      <td>...</td>\n",
       "      <td>1.047529e+00</td>\n",
       "      <td>1.743381e-15</td>\n",
       "      <td>9.817693e-16</td>\n",
       "      <td>1.189313e-15</td>\n",
       "      <td>0.0</td>\n",
       "      <td>-5.364754e-16</td>\n",
       "      <td>-2.229877e-16</td>\n",
       "      <td>1</td>\n",
       "      <td>7.412927e-16</td>\n",
       "      <td>-5.825308e-01</td>\n",
       "    </tr>\n",
       "    <tr>\n",
       "      <th>1</th>\n",
       "      <td>3.466032e-01</td>\n",
       "      <td>-1.763262e-01</td>\n",
       "      <td>-0.342529</td>\n",
       "      <td>-0.306402</td>\n",
       "      <td>2</td>\n",
       "      <td>-5.412290e-01</td>\n",
       "      <td>2</td>\n",
       "      <td>1</td>\n",
       "      <td>-0.188552</td>\n",
       "      <td>0.088205</td>\n",
       "      <td>...</td>\n",
       "      <td>7.281226e-01</td>\n",
       "      <td>1.743381e-15</td>\n",
       "      <td>9.817693e-16</td>\n",
       "      <td>1.189313e-15</td>\n",
       "      <td>0.0</td>\n",
       "      <td>-5.364754e-16</td>\n",
       "      <td>-2.229877e-16</td>\n",
       "      <td>1</td>\n",
       "      <td>7.412927e-16</td>\n",
       "      <td>-2.520413e-02</td>\n",
       "    </tr>\n",
       "    <tr>\n",
       "      <th>2</th>\n",
       "      <td>1.920508e+00</td>\n",
       "      <td>-2.137054e-01</td>\n",
       "      <td>-0.298634</td>\n",
       "      <td>-0.116657</td>\n",
       "      <td>2</td>\n",
       "      <td>-1.012122e-15</td>\n",
       "      <td>2</td>\n",
       "      <td>1</td>\n",
       "      <td>-0.309302</td>\n",
       "      <td>0.330269</td>\n",
       "      <td>...</td>\n",
       "      <td>-1.330736e+00</td>\n",
       "      <td>1.743381e-15</td>\n",
       "      <td>9.817693e-16</td>\n",
       "      <td>1.189313e-15</td>\n",
       "      <td>0.0</td>\n",
       "      <td>-5.364754e-16</td>\n",
       "      <td>-2.229877e-16</td>\n",
       "      <td>1</td>\n",
       "      <td>7.412927e-16</td>\n",
       "      <td>-8.797803e-01</td>\n",
       "    </tr>\n",
       "    <tr>\n",
       "      <th>3</th>\n",
       "      <td>-1.437156e+00</td>\n",
       "      <td>-2.697742e-01</td>\n",
       "      <td>-0.485185</td>\n",
       "      <td>-1.027430</td>\n",
       "      <td>2</td>\n",
       "      <td>-1.012122e-15</td>\n",
       "      <td>1</td>\n",
       "      <td>0</td>\n",
       "      <td>-0.283427</td>\n",
       "      <td>-0.944186</td>\n",
       "      <td>...</td>\n",
       "      <td>-5.877413e-01</td>\n",
       "      <td>1.743381e-15</td>\n",
       "      <td>9.817693e-16</td>\n",
       "      <td>1.189313e-15</td>\n",
       "      <td>0.0</td>\n",
       "      <td>-5.364754e-16</td>\n",
       "      <td>-2.229877e-16</td>\n",
       "      <td>1</td>\n",
       "      <td>-2.137836e+00</td>\n",
       "      <td>-1.236345e-01</td>\n",
       "    </tr>\n",
       "    <tr>\n",
       "      <th>4</th>\n",
       "      <td>5.824619e-18</td>\n",
       "      <td>-1.950158e-01</td>\n",
       "      <td>-0.072892</td>\n",
       "      <td>1.401297</td>\n",
       "      <td>2</td>\n",
       "      <td>-1.012122e-15</td>\n",
       "      <td>2</td>\n",
       "      <td>1</td>\n",
       "      <td>0.535947</td>\n",
       "      <td>0.281173</td>\n",
       "      <td>...</td>\n",
       "      <td>-1.315356e+00</td>\n",
       "      <td>1.743381e-15</td>\n",
       "      <td>9.817693e-16</td>\n",
       "      <td>1.189313e-15</td>\n",
       "      <td>0.0</td>\n",
       "      <td>-5.364754e-16</td>\n",
       "      <td>-2.229877e-16</td>\n",
       "      <td>1</td>\n",
       "      <td>7.412927e-16</td>\n",
       "      <td>-7.788024e-01</td>\n",
       "    </tr>\n",
       "    <tr>\n",
       "      <th>...</th>\n",
       "      <td>...</td>\n",
       "      <td>...</td>\n",
       "      <td>...</td>\n",
       "      <td>...</td>\n",
       "      <td>...</td>\n",
       "      <td>...</td>\n",
       "      <td>...</td>\n",
       "      <td>...</td>\n",
       "      <td>...</td>\n",
       "      <td>...</td>\n",
       "      <td>...</td>\n",
       "      <td>...</td>\n",
       "      <td>...</td>\n",
       "      <td>...</td>\n",
       "      <td>...</td>\n",
       "      <td>...</td>\n",
       "      <td>...</td>\n",
       "      <td>...</td>\n",
       "      <td>...</td>\n",
       "      <td>...</td>\n",
       "      <td>...</td>\n",
       "    </tr>\n",
       "    <tr>\n",
       "      <th>29995</th>\n",
       "      <td>-1.542083e+00</td>\n",
       "      <td>-8.119633e-03</td>\n",
       "      <td>0.638822</td>\n",
       "      <td>-0.002811</td>\n",
       "      <td>1</td>\n",
       "      <td>-1.609555e+00</td>\n",
       "      <td>2</td>\n",
       "      <td>1</td>\n",
       "      <td>-0.257552</td>\n",
       "      <td>0.371758</td>\n",
       "      <td>...</td>\n",
       "      <td>7.562007e-01</td>\n",
       "      <td>1.743381e-15</td>\n",
       "      <td>9.817693e-16</td>\n",
       "      <td>1.189313e-15</td>\n",
       "      <td>0.0</td>\n",
       "      <td>-5.364754e-16</td>\n",
       "      <td>-2.229877e-16</td>\n",
       "      <td>1</td>\n",
       "      <td>7.412927e-16</td>\n",
       "      <td>-9.025572e-01</td>\n",
       "    </tr>\n",
       "    <tr>\n",
       "      <th>29996</th>\n",
       "      <td>-1.122375e+00</td>\n",
       "      <td>-3.794220e-17</td>\n",
       "      <td>0.000000</td>\n",
       "      <td>-1.065379</td>\n",
       "      <td>1</td>\n",
       "      <td>4.202648e-01</td>\n",
       "      <td>1</td>\n",
       "      <td>0</td>\n",
       "      <td>0.000000</td>\n",
       "      <td>-1.589101</td>\n",
       "      <td>...</td>\n",
       "      <td>-2.261304e-16</td>\n",
       "      <td>-6.636799e+00</td>\n",
       "      <td>-5.421537e+00</td>\n",
       "      <td>1.189313e-15</td>\n",
       "      <td>0.0</td>\n",
       "      <td>-5.364754e-16</td>\n",
       "      <td>-2.229877e-16</td>\n",
       "      <td>1</td>\n",
       "      <td>7.412927e-16</td>\n",
       "      <td>1.632691e-16</td>\n",
       "    </tr>\n",
       "    <tr>\n",
       "      <th>29997</th>\n",
       "      <td>5.824619e-18</td>\n",
       "      <td>-1.389469e-01</td>\n",
       "      <td>0.019599</td>\n",
       "      <td>0.414627</td>\n",
       "      <td>1</td>\n",
       "      <td>-1.012122e-15</td>\n",
       "      <td>3</td>\n",
       "      <td>2</td>\n",
       "      <td>0.156447</td>\n",
       "      <td>0.254827</td>\n",
       "      <td>...</td>\n",
       "      <td>-1.814856e-01</td>\n",
       "      <td>1.743381e-15</td>\n",
       "      <td>9.817693e-16</td>\n",
       "      <td>1.189313e-15</td>\n",
       "      <td>0.0</td>\n",
       "      <td>-5.364754e-16</td>\n",
       "      <td>-2.229877e-16</td>\n",
       "      <td>1</td>\n",
       "      <td>7.412927e-16</td>\n",
       "      <td>-4.646702e-03</td>\n",
       "    </tr>\n",
       "    <tr>\n",
       "      <th>29998</th>\n",
       "      <td>2.416762e-01</td>\n",
       "      <td>-2.697742e-01</td>\n",
       "      <td>-0.485185</td>\n",
       "      <td>-0.723839</td>\n",
       "      <td>2</td>\n",
       "      <td>-1.012122e-15</td>\n",
       "      <td>2</td>\n",
       "      <td>0</td>\n",
       "      <td>-0.102302</td>\n",
       "      <td>0.558582</td>\n",
       "      <td>...</td>\n",
       "      <td>1.056852e+00</td>\n",
       "      <td>1.743381e-15</td>\n",
       "      <td>9.817693e-16</td>\n",
       "      <td>1.189313e-15</td>\n",
       "      <td>0.0</td>\n",
       "      <td>-5.364754e-16</td>\n",
       "      <td>-2.229877e-16</td>\n",
       "      <td>1</td>\n",
       "      <td>7.412927e-16</td>\n",
       "      <td>4.415621e-01</td>\n",
       "    </tr>\n",
       "    <tr>\n",
       "      <th>29999</th>\n",
       "      <td>5.824619e-18</td>\n",
       "      <td>-1.950158e-01</td>\n",
       "      <td>-0.185763</td>\n",
       "      <td>0.414627</td>\n",
       "      <td>1</td>\n",
       "      <td>-1.138984e-01</td>\n",
       "      <td>2</td>\n",
       "      <td>2</td>\n",
       "      <td>-0.335177</td>\n",
       "      <td>0.337984</td>\n",
       "      <td>...</td>\n",
       "      <td>9.757067e-01</td>\n",
       "      <td>1.743381e-15</td>\n",
       "      <td>9.817693e-16</td>\n",
       "      <td>1.189313e-15</td>\n",
       "      <td>0.0</td>\n",
       "      <td>-5.364754e-16</td>\n",
       "      <td>-2.229877e-16</td>\n",
       "      <td>1</td>\n",
       "      <td>7.412927e-16</td>\n",
       "      <td>2.475281e+00</td>\n",
       "    </tr>\n",
       "  </tbody>\n",
       "</table>\n",
       "<p>30000 rows × 30 columns</p>\n",
       "</div>"
      ],
      "text/plain": [
       "             Var126         Var74     Var13     Var73  Var218        Var189  \\\n",
       "0      1.186019e+00 -2.323950e-01 -0.469509 -0.382299       1 -1.012122e-15   \n",
       "1      3.466032e-01 -1.763262e-01 -0.342529 -0.306402       2 -5.412290e-01   \n",
       "2      1.920508e+00 -2.137054e-01 -0.298634 -0.116657       2 -1.012122e-15   \n",
       "3     -1.437156e+00 -2.697742e-01 -0.485185 -1.027430       2 -1.012122e-15   \n",
       "4      5.824619e-18 -1.950158e-01 -0.072892  1.401297       2 -1.012122e-15   \n",
       "...             ...           ...       ...       ...     ...           ...   \n",
       "29995 -1.542083e+00 -8.119633e-03  0.638822 -0.002811       1 -1.609555e+00   \n",
       "29996 -1.122375e+00 -3.794220e-17  0.000000 -1.065379       1  4.202648e-01   \n",
       "29997  5.824619e-18 -1.389469e-01  0.019599  0.414627       1 -1.012122e-15   \n",
       "29998  2.416762e-01 -2.697742e-01 -0.485185 -0.723839       2 -1.012122e-15   \n",
       "29999  5.824619e-18 -1.950158e-01 -0.185763  0.414627       1 -1.138984e-01   \n",
       "\n",
       "       Var205  Var229     Var21    Var113  ...        Var153        Var147  \\\n",
       "0           0       0 -0.205802  0.549330  ...  1.047529e+00  1.743381e-15   \n",
       "1           2       1 -0.188552  0.088205  ...  7.281226e-01  1.743381e-15   \n",
       "2           2       1 -0.309302  0.330269  ... -1.330736e+00  1.743381e-15   \n",
       "3           1       0 -0.283427 -0.944186  ... -5.877413e-01  1.743381e-15   \n",
       "4           2       1  0.535947  0.281173  ... -1.315356e+00  1.743381e-15   \n",
       "...       ...     ...       ...       ...  ...           ...           ...   \n",
       "29995       2       1 -0.257552  0.371758  ...  7.562007e-01  1.743381e-15   \n",
       "29996       1       0  0.000000 -1.589101  ... -2.261304e-16 -6.636799e+00   \n",
       "29997       3       2  0.156447  0.254827  ... -1.814856e-01  1.743381e-15   \n",
       "29998       2       0 -0.102302  0.558582  ...  1.056852e+00  1.743381e-15   \n",
       "29999       2       2 -0.335177  0.337984  ...  9.757067e-01  1.743381e-15   \n",
       "\n",
       "             Var172         Var59  Var188        Var159        Var127  Var203  \\\n",
       "0      9.817693e-16  1.189313e-15     0.0 -5.364754e-16 -2.229877e-16       1   \n",
       "1      9.817693e-16  1.189313e-15     0.0 -5.364754e-16 -2.229877e-16       1   \n",
       "2      9.817693e-16  1.189313e-15     0.0 -5.364754e-16 -2.229877e-16       1   \n",
       "3      9.817693e-16  1.189313e-15     0.0 -5.364754e-16 -2.229877e-16       1   \n",
       "4      9.817693e-16  1.189313e-15     0.0 -5.364754e-16 -2.229877e-16       1   \n",
       "...             ...           ...     ...           ...           ...     ...   \n",
       "29995  9.817693e-16  1.189313e-15     0.0 -5.364754e-16 -2.229877e-16       1   \n",
       "29996 -5.421537e+00  1.189313e-15     0.0 -5.364754e-16 -2.229877e-16       1   \n",
       "29997  9.817693e-16  1.189313e-15     0.0 -5.364754e-16 -2.229877e-16       1   \n",
       "29998  9.817693e-16  1.189313e-15     0.0 -5.364754e-16 -2.229877e-16       1   \n",
       "29999  9.817693e-16  1.189313e-15     0.0 -5.364754e-16 -2.229877e-16       1   \n",
       "\n",
       "              Var51         Var38  \n",
       "0      7.412927e-16 -5.825308e-01  \n",
       "1      7.412927e-16 -2.520413e-02  \n",
       "2      7.412927e-16 -8.797803e-01  \n",
       "3     -2.137836e+00 -1.236345e-01  \n",
       "4      7.412927e-16 -7.788024e-01  \n",
       "...             ...           ...  \n",
       "29995  7.412927e-16 -9.025572e-01  \n",
       "29996  7.412927e-16  1.632691e-16  \n",
       "29997  7.412927e-16 -4.646702e-03  \n",
       "29998  7.412927e-16  4.415621e-01  \n",
       "29999  7.412927e-16  2.475281e+00  \n",
       "\n",
       "[30000 rows x 30 columns]"
      ]
     },
     "execution_count": 428,
     "metadata": {},
     "output_type": "execute_result"
    }
   ],
   "source": [
    "x_final[importance['label'][:30]]"
   ]
  },
  {
   "cell_type": "markdown",
   "metadata": {},
   "source": [
    "### 10. Усовершенствование модели"
   ]
  },
  {
   "cell_type": "markdown",
   "metadata": {},
   "source": [
    "10\\. Подумайте, можно ли еще улучшить модель? Что для этого можно сделать? "
   ]
  },
  {
   "cell_type": "markdown",
   "metadata": {
    "collapsed": true
   },
   "source": [
    "Необходимо тщательно поработать с признаками, в особенности содержащие выбросы. Возможно поможет создание новых признаков, основанных на взаимодействии текущих. Подбор гиперпараметров алгоритма по всевозможным комбинациям. "
   ]
  },
  {
   "cell_type": "code",
   "execution_count": null,
   "metadata": {},
   "outputs": [],
   "source": []
  },
  {
   "cell_type": "markdown",
   "metadata": {},
   "source": [
    "### 11. Проверка на kaggle"
   ]
  },
  {
   "cell_type": "code",
   "execution_count": 426,
   "metadata": {},
   "outputs": [],
   "source": [
    "test_data_kaggle = pd.read_csv('orange_small_churn_test_data.csv',)\n",
    "test_data_kaggle.drop('ID',axis=1, inplace=True)"
   ]
  },
  {
   "cell_type": "code",
   "execution_count": 427,
   "metadata": {},
   "outputs": [],
   "source": [
    "test_data_kaggle = test_data_kaggle.dropna(axis=1, how='all')\n",
    "test_data_kaggle = num_features(test_data_kaggle)\n",
    "test_data_kaggle = cat_features(test_data_kaggle)\n",
    "test_data_kaggle = label_encoder(test_data_kaggle)"
   ]
  },
  {
   "cell_type": "code",
   "execution_count": 441,
   "metadata": {},
   "outputs": [
    {
     "data": {
      "text/plain": [
       "GradientBoostingClassifier(ccp_alpha=0.0, criterion='friedman_mse', init=None,\n",
       "                           learning_rate=0.01, loss='deviance', max_depth=3,\n",
       "                           max_features=None, max_leaf_nodes=None,\n",
       "                           min_impurity_decrease=0.0, min_impurity_split=None,\n",
       "                           min_samples_leaf=1, min_samples_split=2,\n",
       "                           min_weight_fraction_leaf=0.0, n_estimators=700,\n",
       "                           n_iter_no_change=None, presort='deprecated',\n",
       "                           random_state=None, subsample=0.5, tol=0.0001,\n",
       "                           validation_fraction=0.1, verbose=0,\n",
       "                           warm_start=False)"
      ]
     },
     "execution_count": 441,
     "metadata": {},
     "output_type": "execute_result"
    }
   ],
   "source": [
    "estimator_best = GradientBoostingClassifier(learning_rate=0.01, max_depth=3, n_estimators=700, subsample=0.5)\n",
    "estimator_best.fit(x_final[importance['label'][:30]], y_final.label.values)"
   ]
  },
  {
   "cell_type": "code",
   "execution_count": 442,
   "metadata": {},
   "outputs": [],
   "source": [
    "y_test = pd.DataFrame({'ID': test_data_kaggle.index, 'result': estimator_best.predict_proba(test_data_kaggle[importance['label'][:30]])[:,1]})"
   ]
  },
  {
   "cell_type": "code",
   "execution_count": 443,
   "metadata": {},
   "outputs": [],
   "source": [
    "y_test.to_csv('answer_upd.csv', index=False)"
   ]
  },
  {
   "cell_type": "markdown",
   "metadata": {},
   "source": [
    "В результате удалось незначительно улучшить показатель на kaggle"
   ]
  },
  {
   "cell_type": "code",
   "execution_count": null,
   "metadata": {},
   "outputs": [],
   "source": []
  }
 ],
 "metadata": {
  "kernelspec": {
   "display_name": "Python 3",
   "language": "python",
   "name": "python3"
  },
  "language_info": {
   "codemirror_mode": {
    "name": "ipython",
    "version": 3
   },
   "file_extension": ".py",
   "mimetype": "text/x-python",
   "name": "python",
   "nbconvert_exporter": "python",
   "pygments_lexer": "ipython3",
   "version": "3.7.6"
  }
 },
 "nbformat": 4,
 "nbformat_minor": 1
}
